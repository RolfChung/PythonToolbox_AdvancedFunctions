{
 "cells": [
  {
   "cell_type": "markdown",
   "id": "gothic-textbook",
   "metadata": {},
   "source": [
    "# Summary \n",
    "\n",
    "<p>This project discusses advanced function concepts in Python. <br>\n",
    "The concepts make it possible to do complex things with less code. <br>\n",
    "It helps to structure programs and write clean code. <br>\n",
    "The concepts discussed are, for example:</p>\n",
    "    \n",
    "<ul>\n",
    "  <li>Docstrings</li>\n",
    "  <li>Assignments</li>\n",
    "  <li>OOP</li>\n",
    "  <li>Nested functions</li>\n",
    "  <li>Closures</li>\n",
    "  <li>Decorators</li>\n",
    "  <li>Context Managers</li>\n",
    "</ul> "
   ]
  },
  {
   "cell_type": "markdown",
   "id": "sufficient-sterling",
   "metadata": {},
   "source": [
    "# Importing packages\n",
    "<p>Python core packages.</p>"
   ]
  },
  {
   "cell_type": "code",
   "execution_count": 151,
   "id": "dirty-accused",
   "metadata": {},
   "outputs": [],
   "source": [
    "import pandas as pd\n",
    "import numpy as np\n",
    "import os as os\n",
    "import time\n",
    "from time import time\n",
    "import pprint\n",
    "import sys\n",
    "import re\n",
    "import json\n",
    "import math\n"
   ]
  },
  {
   "cell_type": "code",
   "execution_count": 152,
   "id": "surprising-capability",
   "metadata": {},
   "outputs": [
    {
     "name": "stdout",
     "output_type": "stream",
     "text": [
      "C:\\Users\\gamarandor\\data_science\\data_science_projects\\data_camp_projects\\Efficient_Python_functions\n"
     ]
    }
   ],
   "source": [
    "cwd=os.getcwd()\n",
    "print(cwd)"
   ]
  },
  {
   "cell_type": "markdown",
   "id": "grand-venezuela",
   "metadata": {},
   "source": [
    "<p>System packages</p>"
   ]
  },
  {
   "cell_type": "code",
   "execution_count": 153,
   "id": "trying-passion",
   "metadata": {},
   "outputs": [
    {
     "name": "stdout",
     "output_type": "stream",
     "text": [
      "<_io.TextIOWrapper name='<stdin>' mode='r' encoding='cp1252'>\n",
      "<ipykernel.iostream.OutStream object at 0x000001E7FF7E6548>\n"
     ]
    }
   ],
   "source": [
    "from contextlib import redirect_stdout\n",
    "from contextlib import closing\n",
    "import contextlib\n",
    "from contextlib import contextmanager\n",
    "from urllib.request import urlopen\n",
    "\n",
    "import subprocess\n",
    "import io\n",
    "\n",
    "sys_stdin=sys.stdin\n",
    "print(sys_stdin)\n",
    "\n",
    "sys_stdout=sys.stdout\n",
    "print(sys_stdout)"
   ]
  },
  {
   "cell_type": "markdown",
   "id": "boxed-straight",
   "metadata": {},
   "source": [
    "<p>Context managers</p>"
   ]
  },
  {
   "cell_type": "code",
   "execution_count": 154,
   "id": "dutch-module",
   "metadata": {},
   "outputs": [],
   "source": [
    "import contextlib\n",
    "from contextlib import contextmanager"
   ]
  },
  {
   "cell_type": "markdown",
   "id": "individual-spencer",
   "metadata": {},
   "source": [
    "<p>Data visualization</p>"
   ]
  },
  {
   "cell_type": "code",
   "execution_count": 155,
   "id": "healthy-birthday",
   "metadata": {},
   "outputs": [],
   "source": [
    "import matplotlib.pyplot as plt\n",
    "%matplotlib inline\n",
    "import seaborn as sns"
   ]
  },
  {
   "cell_type": "markdown",
   "id": "lesbian-satisfaction",
   "metadata": {},
   "source": [
    "<p>Docstring specific packages.</p>"
   ]
  },
  {
   "cell_type": "code",
   "execution_count": 156,
   "id": "exposed-printer",
   "metadata": {},
   "outputs": [],
   "source": [
    "# It is module.\n",
    "import inspect"
   ]
  },
  {
   "cell_type": "markdown",
   "id": "respiratory-holder",
   "metadata": {},
   "source": [
    "<p>Machine Learning</p>"
   ]
  },
  {
   "cell_type": "code",
   "execution_count": 157,
   "id": "expanded-blind",
   "metadata": {},
   "outputs": [],
   "source": [
    "from sklearn.decomposition import PCA"
   ]
  },
  {
   "cell_type": "markdown",
   "id": "illegal-gambling",
   "metadata": {},
   "source": [
    "## Docstrings\n",
    "\n",
    "<p>\n",
    "describe what a function does in form of a comment.<br>\n",
    "The function below finds the number of upper cases in a text string.<br>\n",
    "This information goes into the docstring.\n",
    "</p>"
   ]
  },
  {
   "cell_type": "code",
   "execution_count": 158,
   "id": "unavailable-hierarchy",
   "metadata": {},
   "outputs": [],
   "source": [
    "def n_upper_cases(text):\n",
    "    \n",
    "    if not type(text) is str:\n",
    "        raise TypeError('Text must be of type string.')\n",
    "        \n",
    "    find_upper = re.findall('[A-Z]', text)\n",
    "    upper_cases = len(find_upper)\n",
    "    \n",
    "    return f'The number of upper_cases in the text is: {upper_cases}'"
   ]
  },
  {
   "cell_type": "code",
   "execution_count": 159,
   "id": "tamil-review",
   "metadata": {},
   "outputs": [
    {
     "name": "stdout",
     "output_type": "stream",
     "text": [
      "We walked early in the morning via Venus to Las Vegas\n",
      "The number of upper_cases in the text is: 4\n"
     ]
    }
   ],
   "source": [
    "string_1 =\"We walked early in the morning via Venus to Las Vegas\"\n",
    "n_upper_string_1 = n_upper_cases(string_1)\n",
    "print(string_1)\n",
    "print(n_upper_string_1)"
   ]
  },
  {
   "cell_type": "code",
   "execution_count": 160,
   "id": "initial-breach",
   "metadata": {},
   "outputs": [],
   "source": [
    "input_1 =[1,2,3]\n",
    "# n_upper_input_1 = n_upper_cases(input_1)\n",
    "# print(input_1)\n",
    "# print(n_upper_input_1)"
   ]
  },
  {
   "cell_type": "markdown",
   "id": "incorporate-spice",
   "metadata": {},
   "source": [
    "<p> It has raised a TypeError.</p>"
   ]
  },
  {
   "cell_type": "markdown",
   "id": "maritime-choice",
   "metadata": {},
   "source": [
    "<p>There are different docstring formats, which are offering style guides,\n",
    "syntax and best practices.<p>\n",
    "</p>\n",
    "<ul>\n",
    "  <li>Google Style</li>\n",
    "  <li>Numpydoc</li>\n",
    "  <li>reStructuredText</li>\n",
    "  <li>EpyText</li>\n",
    "</ul> \n",
    "\n",
    "<p>Examples of style guides are given here:<br>\n",
    "<a href=\"https://sphinxcontrib-napoleon.readthedocs.io/en/latest/example_google.html\" target=\"_blank\">Example Google Style Python Docstrings</a> and\n",
    "<a href=\"https://sphinxcontrib-napoleon.readthedocs.io/en/latest/example_numpy.html#example-numpy\" target=\"_blank\">Example NumPy Style Python Docstrings</a>.\n",
    "</p>\n",
    "\n",
    "<p>Below the Google Style gudide is applied.</p>"
   ]
  },
  {
   "cell_type": "code",
   "execution_count": 161,
   "id": "threaded-stuart",
   "metadata": {},
   "outputs": [],
   "source": [
    "def function_with_types_in_docstring(param1, param2):\n",
    "    \"\"\"Example function with types documented in the docstring.\n",
    "\n",
    "    `PEP 484`_ type annotations are supported. If attribute, parameter, and\n",
    "    return types are annotated according to `PEP 484`_, they do not need to be\n",
    "    included in the docstring:\n",
    "\n",
    "    Args:\n",
    "        param1 (int): The first parameter.\n",
    "        param2 (str): The second parameter.\n",
    "\n",
    "    Returns:\n",
    "        bool: The return value. True for success, False otherwise.\n",
    "\n",
    "    .. _PEP 484:\n",
    "        https://www.python.org/dev/peps/pep-0484/\n",
    "\n",
    "    \"\"\"\n"
   ]
  },
  {
   "cell_type": "markdown",
   "id": "affecting-legend",
   "metadata": {},
   "source": [
    "<p>With docstring:</p>"
   ]
  },
  {
   "cell_type": "code",
   "execution_count": 162,
   "id": "grave-cutting",
   "metadata": {},
   "outputs": [],
   "source": [
    "def n_upper_cases(text):\n",
    "    \n",
    "    \"\"\"\n",
    "    The function below finds the number of upper cases in a text string.\n",
    "    \n",
    "    It is adding a Googly style sheet paragraph.\n",
    "    Args:\n",
    "        text (str): The text to analyze for upper cases.\n",
    "        \n",
    "    Returns:\n",
    "        \"The number of upper cases in the text.\"\n",
    "    Raises:\n",
    "        \"Raises a TypeError if the text is not a string.\"\n",
    "    \"\"\"\n",
    "    \n",
    "    if not type(text) is str:\n",
    "        raise TypeError('Text must be of type string.')\n",
    "        \n",
    "    find_upper = re.findall('[A-Z]', text)\n",
    "    upper_cases = len(find_upper)\n",
    "    \n",
    "    return f'The number of upper_cases in the string is: {upper_cases}'"
   ]
  },
  {
   "cell_type": "markdown",
   "id": "italian-relative",
   "metadata": {},
   "source": [
    "<p>Selecting the doc string.</p>"
   ]
  },
  {
   "cell_type": "markdown",
   "id": "documentary-liability",
   "metadata": {},
   "source": [
    "n_upper_cases.__doc__"
   ]
  },
  {
   "cell_type": "markdown",
   "id": "labeled-meditation",
   "metadata": {},
   "source": [
    "<p>Docstring needs print to pretty print it.</p>"
   ]
  },
  {
   "cell_type": "code",
   "execution_count": 163,
   "id": "steady-camel",
   "metadata": {},
   "outputs": [
    {
     "name": "stdout",
     "output_type": "stream",
     "text": [
      "\n",
      "    The function below finds the number of upper cases in a text string.\n",
      "    \n",
      "    It is adding a Googly style sheet paragraph.\n",
      "    Args:\n",
      "        text (str): The text to analyze for upper cases.\n",
      "        \n",
      "    Returns:\n",
      "        \"The number of upper cases in the text.\"\n",
      "    Raises:\n",
      "        \"Raises a TypeError if the text is not a string.\"\n",
      "    \n"
     ]
    }
   ],
   "source": [
    "print(n_upper_cases.__doc__)"
   ]
  },
  {
   "cell_type": "markdown",
   "id": "informal-receiver",
   "metadata": {},
   "source": [
    "<p>Inspecting the docstring.</p>"
   ]
  },
  {
   "cell_type": "code",
   "execution_count": 164,
   "id": "extraordinary-wagon",
   "metadata": {},
   "outputs": [],
   "source": [
    "docstring_n_upper_cases = inspect.getdoc(n_upper_cases)"
   ]
  },
  {
   "cell_type": "code",
   "execution_count": 165,
   "id": "impossible-accountability",
   "metadata": {},
   "outputs": [
    {
     "name": "stdout",
     "output_type": "stream",
     "text": [
      "The function below finds the number of upper cases in a text string.\n",
      "\n",
      "It is adding a Googly style sheet paragraph.\n",
      "Args:\n",
      "    text (str): The text to analyze for upper cases.\n",
      "    \n",
      "Returns:\n",
      "    \"The number of upper cases in the text.\"\n",
      "Raises:\n",
      "    \"Raises a TypeError if the text is not a string.\"\n"
     ]
    }
   ],
   "source": [
    "print(docstring_n_upper_cases)"
   ]
  },
  {
   "cell_type": "code",
   "execution_count": 166,
   "id": "christian-sucking",
   "metadata": {},
   "outputs": [
    {
     "name": "stdout",
     "output_type": "stream",
     "text": [
      "----------------------------------------------------------------------\n",
      "The function below finds the number of upper cases in a text string.\n",
      "\n",
      "It is adding a Googly style sheet paragraph.\n",
      "Args:\n",
      "    text (str): The text to analyze for upper cases.\n",
      "    \n",
      "Returns:\n",
      "    \"The number of upper cases in the text.\"\n",
      "Raises:\n",
      "    \"Raises a TypeError if the text is not a string.\"\n",
      "----------------------------------------------------------------------\n"
     ]
    }
   ],
   "source": [
    "margin = '-' * 70\n",
    "# \\n is a line break\n",
    "print('{}\\n{}\\n{}'.format(margin, docstring_n_upper_cases, margin))"
   ]
  },
  {
   "cell_type": "code",
   "execution_count": 167,
   "id": "broken-basketball",
   "metadata": {},
   "outputs": [
    {
     "data": {
      "text/plain": [
       "9"
      ]
     },
     "execution_count": 167,
     "metadata": {},
     "output_type": "execute_result"
    }
   ],
   "source": [
    "def square(number):\n",
    "    squared_number = number ** 2\n",
    "    return squared_number\n",
    "\n",
    "square(3)"
   ]
  },
  {
   "cell_type": "markdown",
   "id": "earlier-notion",
   "metadata": {},
   "source": [
    "### Doc on doc\n",
    "<p>Retrieving docstrings with a user defined function based on the inspect module.<br>\n",
    "The retrieving function has a docstring on it's own.</p>"
   ]
  },
  {
   "cell_type": "code",
   "execution_count": 168,
   "id": "supported-gather",
   "metadata": {},
   "outputs": [],
   "source": [
    "# retrieving function\n",
    "def retrieve_docstring(any_function):\n",
    "    \"\"\"A function to retrieve the docstring of any function.\n",
    "\n",
    "     Args:\n",
    "        any_function (callable): The function the docstring is retrieved of.\n",
    "\n",
    "    Returns:\n",
    "        \"The docstring of the function.\"\"\n",
    "  \"\"\"\n",
    "  \n",
    "  # Get the docstring for the \"function\" argument by using inspect\n",
    "    docstring = inspect.getdoc(any_function)\n",
    "    margin = '#' * 50\n",
    "    return '{}\\n{}\\n{}'.format(margin, docstring, margin)\n",
    "\n"
   ]
  },
  {
   "cell_type": "markdown",
   "id": "primary-filter",
   "metadata": {},
   "source": [
    "<p>Retrieving the docstring of the retrieving docstrings function.</p>"
   ]
  },
  {
   "cell_type": "code",
   "execution_count": 169,
   "id": "alive-handbook",
   "metadata": {},
   "outputs": [
    {
     "name": "stdout",
     "output_type": "stream",
     "text": [
      "A function to retrieve the docstring of any function.\n",
      "\n",
      "     Args:\n",
      "        any_function (callable): The function the docstring is retrieved of.\n",
      "\n",
      "    Returns:\n",
      "        \"The docstring of the function.\"\"\n",
      "  \n"
     ]
    }
   ],
   "source": [
    "print(retrieve_docstring.__doc__)"
   ]
  },
  {
   "cell_type": "markdown",
   "id": "commercial-mother",
   "metadata": {},
   "source": [
    "<p>Applying retrieve_docstring on the user defined function.</p>"
   ]
  },
  {
   "cell_type": "code",
   "execution_count": 170,
   "id": "large-communist",
   "metadata": {},
   "outputs": [
    {
     "name": "stdout",
     "output_type": "stream",
     "text": [
      "##################################################\n",
      "The function below finds the number of upper cases in a text string.\n",
      "\n",
      "It is adding a Googly style sheet paragraph.\n",
      "Args:\n",
      "    text (str): The text to analyze for upper cases.\n",
      "    \n",
      "Returns:\n",
      "    \"The number of upper cases in the text.\"\n",
      "Raises:\n",
      "    \"Raises a TypeError if the text is not a string.\"\n",
      "##################################################\n"
     ]
    }
   ],
   "source": [
    "print(retrieve_docstring(n_upper_cases))"
   ]
  },
  {
   "cell_type": "markdown",
   "id": "capital-despite",
   "metadata": {},
   "source": [
    "<p>Applying retrieve_docstring on built-in functions.</p>"
   ]
  },
  {
   "cell_type": "code",
   "execution_count": 171,
   "id": "missing-correction",
   "metadata": {},
   "outputs": [
    {
     "name": "stdout",
     "output_type": "stream",
     "text": [
      "##################################################\n",
      "Evaluate the given source in the context of globals and locals.\n",
      "\n",
      "The source may be a string representing a Python expression\n",
      "or a code object as returned by compile().\n",
      "The globals must be a dictionary and locals can be any mapping,\n",
      "defaulting to the current globals and locals.\n",
      "If only globals is given, locals defaults to it.\n",
      "##################################################\n"
     ]
    }
   ],
   "source": [
    "print(retrieve_docstring(eval))"
   ]
  },
  {
   "cell_type": "code",
   "execution_count": 172,
   "id": "sorted-affairs",
   "metadata": {},
   "outputs": [
    {
     "name": "stdout",
     "output_type": "stream",
     "text": [
      "##################################################\n",
      "dict() -> new empty dictionary\n",
      "dict(mapping) -> new dictionary initialized from a mapping object's\n",
      "    (key, value) pairs\n",
      "dict(iterable) -> new dictionary initialized as if via:\n",
      "    d = {}\n",
      "    for k, v in iterable:\n",
      "        d[k] = v\n",
      "dict(**kwargs) -> new dictionary initialized with the name=value pairs\n",
      "    in the keyword argument list.  For example:  dict(one=1, two=2)\n",
      "##################################################\n"
     ]
    }
   ],
   "source": [
    "print(retrieve_docstring(dict))"
   ]
  },
  {
   "cell_type": "markdown",
   "id": "decreased-following",
   "metadata": {},
   "source": [
    "## Software principles: <br>DRY & Do one thing.\n",
    "<p>DRY meaning Don't repeat yourself.</p>\n",
    "\n",
    "<p>Repeating code more than three times perhaps by copy & paste points\n",
    "into the direction of a function. Functions are doing the same with less code. Every function should do only one and not multiple things.</p>\n",
    "\n",
    "<p>\n",
    "As an arbitrary example the process below includes loading the data, splitting it, conduct a PCA, and then plot the PCA. The process is than coded into three functions doing one thing.\n",
    "</p>\n",
    "\n"
   ]
  },
  {
   "cell_type": "code",
   "execution_count": 173,
   "id": "contained-communist",
   "metadata": {},
   "outputs": [],
   "source": [
    "path_1=\\\n",
    "\"csv/ai4i2020.csv\"\n"
   ]
  },
  {
   "cell_type": "code",
   "execution_count": 174,
   "id": "final-excuse",
   "metadata": {},
   "outputs": [],
   "source": [
    "maintenance=pd.read_csv(path_1 , sep=\",\", header=0)"
   ]
  },
  {
   "cell_type": "code",
   "execution_count": 175,
   "id": "abstract-technique",
   "metadata": {},
   "outputs": [],
   "source": [
    "maintenance=maintenance.select_dtypes('number')"
   ]
  },
  {
   "cell_type": "code",
   "execution_count": 176,
   "id": "explicit-challenge",
   "metadata": {},
   "outputs": [
    {
     "name": "stdout",
     "output_type": "stream",
     "text": [
      "<class 'pandas.core.frame.DataFrame'>\n",
      "<class 'pandas.core.frame.DataFrame'>\n",
      "RangeIndex: 10000 entries, 0 to 9999\n",
      "Data columns (total 12 columns):\n",
      " #   Column                   Non-Null Count  Dtype  \n",
      "---  ------                   --------------  -----  \n",
      " 0   UDI                      10000 non-null  int64  \n",
      " 1   Air temperature [K]      10000 non-null  float64\n",
      " 2   Process temperature [K]  10000 non-null  float64\n",
      " 3   Rotational speed [rpm]   10000 non-null  int64  \n",
      " 4   Torque [Nm]              10000 non-null  float64\n",
      " 5   Tool wear [min]          10000 non-null  int64  \n",
      " 6   Machine failure          10000 non-null  int64  \n",
      " 7   TWF                      10000 non-null  int64  \n",
      " 8   HDF                      10000 non-null  int64  \n",
      " 9   PWF                      10000 non-null  int64  \n",
      " 10  OSF                      10000 non-null  int64  \n",
      " 11  RNF                      10000 non-null  int64  \n",
      "dtypes: float64(3), int64(9)\n",
      "memory usage: 937.6 KB\n",
      "None\n"
     ]
    }
   ],
   "source": [
    "print(type(maintenance))\n",
    "print(maintenance.info())"
   ]
  },
  {
   "cell_type": "code",
   "execution_count": 177,
   "id": "residential-wichita",
   "metadata": {},
   "outputs": [
    {
     "data": {
      "text/html": [
       "<div>\n",
       "<style scoped>\n",
       "    .dataframe tbody tr th:only-of-type {\n",
       "        vertical-align: middle;\n",
       "    }\n",
       "\n",
       "    .dataframe tbody tr th {\n",
       "        vertical-align: top;\n",
       "    }\n",
       "\n",
       "    .dataframe thead th {\n",
       "        text-align: right;\n",
       "    }\n",
       "</style>\n",
       "<table border=\"1\" class=\"dataframe\">\n",
       "  <thead>\n",
       "    <tr style=\"text-align: right;\">\n",
       "      <th></th>\n",
       "      <th>UDI</th>\n",
       "      <th>Air temperature [K]</th>\n",
       "      <th>Process temperature [K]</th>\n",
       "      <th>Rotational speed [rpm]</th>\n",
       "      <th>Torque [Nm]</th>\n",
       "      <th>Tool wear [min]</th>\n",
       "      <th>Machine failure</th>\n",
       "      <th>TWF</th>\n",
       "      <th>HDF</th>\n",
       "      <th>PWF</th>\n",
       "      <th>OSF</th>\n",
       "      <th>RNF</th>\n",
       "    </tr>\n",
       "  </thead>\n",
       "  <tbody>\n",
       "    <tr>\n",
       "      <th>0</th>\n",
       "      <td>1</td>\n",
       "      <td>298.1</td>\n",
       "      <td>308.6</td>\n",
       "      <td>1551</td>\n",
       "      <td>42.8</td>\n",
       "      <td>0</td>\n",
       "      <td>0</td>\n",
       "      <td>0</td>\n",
       "      <td>0</td>\n",
       "      <td>0</td>\n",
       "      <td>0</td>\n",
       "      <td>0</td>\n",
       "    </tr>\n",
       "    <tr>\n",
       "      <th>1</th>\n",
       "      <td>2</td>\n",
       "      <td>298.2</td>\n",
       "      <td>308.7</td>\n",
       "      <td>1408</td>\n",
       "      <td>46.3</td>\n",
       "      <td>3</td>\n",
       "      <td>0</td>\n",
       "      <td>0</td>\n",
       "      <td>0</td>\n",
       "      <td>0</td>\n",
       "      <td>0</td>\n",
       "      <td>0</td>\n",
       "    </tr>\n",
       "  </tbody>\n",
       "</table>\n",
       "</div>"
      ],
      "text/plain": [
       "   UDI  Air temperature [K]  Process temperature [K]  Rotational speed [rpm]  \\\n",
       "0    1                298.1                    308.6                    1551   \n",
       "1    2                298.2                    308.7                    1408   \n",
       "\n",
       "   Torque [Nm]  Tool wear [min]  Machine failure  TWF  HDF  PWF  OSF  RNF  \n",
       "0         42.8                0                0    0    0    0    0    0  \n",
       "1         46.3                3                0    0    0    0    0    0  "
      ]
     },
     "execution_count": 177,
     "metadata": {},
     "output_type": "execute_result"
    }
   ],
   "source": [
    "maintenance.head(2)"
   ]
  },
  {
   "cell_type": "markdown",
   "id": "strong-attraction",
   "metadata": {},
   "source": [
    "<p>The response variable or label is here 'Machine failure'.</p>"
   ]
  },
  {
   "cell_type": "code",
   "execution_count": 178,
   "id": "incident-surname",
   "metadata": {},
   "outputs": [
    {
     "name": "stdout",
     "output_type": "stream",
     "text": [
      "(10000,)\n"
     ]
    }
   ],
   "source": [
    "label_1=maintenance['Machine failure'].values.reshape((10000))\n",
    "\n",
    "print(label_1.shape)"
   ]
  },
  {
   "cell_type": "code",
   "execution_count": 179,
   "id": "aerial-produce",
   "metadata": {},
   "outputs": [],
   "source": [
    "features_1_cols = []\n",
    "\n",
    "for i in maintenance.columns:\n",
    "    if i != 'Machine failure':\n",
    "        features_1_cols.append(i)"
   ]
  },
  {
   "cell_type": "code",
   "execution_count": 180,
   "id": "ancient-armenia",
   "metadata": {},
   "outputs": [
    {
     "name": "stdout",
     "output_type": "stream",
     "text": [
      "Index(['UDI', 'Air temperature [K]', 'Process temperature [K]',\n",
      "       'Rotational speed [rpm]', 'Torque [Nm]', 'Tool wear [min]', 'TWF',\n",
      "       'HDF', 'PWF', 'OSF', 'RNF'],\n",
      "      dtype='object')\n",
      "(10000, 11)\n"
     ]
    }
   ],
   "source": [
    "features_1 = maintenance[features_1_cols]\n",
    "\n",
    "print(features_1.columns)\n",
    "print(features_1.shape)"
   ]
  },
  {
   "cell_type": "code",
   "execution_count": 181,
   "id": "sound-numbers",
   "metadata": {},
   "outputs": [
    {
     "name": "stdout",
     "output_type": "stream",
     "text": [
      "<class 'numpy.ndarray'>\n"
     ]
    },
    {
     "data": {
      "text/plain": [
       "array([[1.000e+00, 2.981e+02, 3.086e+02, 1.551e+03, 4.280e+01, 0.000e+00,\n",
       "        0.000e+00, 0.000e+00, 0.000e+00, 0.000e+00, 0.000e+00],\n",
       "       [2.000e+00, 2.982e+02, 3.087e+02, 1.408e+03, 4.630e+01, 3.000e+00,\n",
       "        0.000e+00, 0.000e+00, 0.000e+00, 0.000e+00, 0.000e+00]])"
      ]
     },
     "execution_count": 181,
     "metadata": {},
     "output_type": "execute_result"
    }
   ],
   "source": [
    "features_1_array=features_1.values\n",
    "\n",
    "print(type(features_1_array))\n",
    "features_1_array[:2]"
   ]
  },
  {
   "cell_type": "code",
   "execution_count": 182,
   "id": "musical-going",
   "metadata": {},
   "outputs": [
    {
     "data": {
      "image/png": "[encoded data removed]",
      "text/plain": [
       "<Figure size 432x288 with 1 Axes>"
      ]
     },
     "metadata": {
      "needs_background": "light"
     },
     "output_type": "display_data"
    }
   ],
   "source": [
    "pca = PCA(n_components=2).fit_transform(features_1_array)\n",
    "plt.scatter(pca[:,0], pca[:,1], edgecolor='black', color='lightgoldenrodyellow')\n",
    "plt.show()"
   ]
  },
  {
   "cell_type": "code",
   "execution_count": 183,
   "id": "flush-elephant",
   "metadata": {},
   "outputs": [
    {
     "name": "stdout",
     "output_type": "stream",
     "text": [
      "<class 'numpy.ndarray'>\n",
      "(10000, 2)\n",
      "[[-4999.47926239    10.00301494]\n",
      " [-4998.42093464  -132.99731723]]\n"
     ]
    }
   ],
   "source": [
    "print(type(pca))\n",
    "print(pca.shape)\n",
    "print(pca[:2])"
   ]
  },
  {
   "cell_type": "code",
   "execution_count": 184,
   "id": "painted-rotation",
   "metadata": {},
   "outputs": [],
   "source": [
    "def load_split(path, label):\n",
    "    \n",
    "    \"\"\"The function loads data from a csv and splits the numerical variables\n",
    "       into features and the label.\n",
    "       \n",
    "       Args:\n",
    "           path (str): The path to the csv.\n",
    "           label (str): The label or response variable.\n",
    "           \n",
    "        Returns:\n",
    "            \"Features X and label y. \"\n",
    "       \n",
    "       \"\"\"\n",
    "    \n",
    "    observations = pd.read_csv(path, sep=\",\", header=0)\n",
    "    observations=observations.select_dtypes('number')\n",
    "    \n",
    "    y_label = observations[label].values\n",
    "    \n",
    "    feature_cols =\\\n",
    "    [col for col in observations.columns if i != label]\n",
    "    \n",
    "    x_features = observations[feature_cols].values\n",
    "    \n",
    "    return x_features, y_label\n",
    "\n"
   ]
  },
  {
   "cell_type": "code",
   "execution_count": 185,
   "id": "powerful-pressing",
   "metadata": {},
   "outputs": [
    {
     "name": "stdout",
     "output_type": "stream",
     "text": [
      "The function loads data from a csv and splits the numerical variables\n",
      "       into features and the label.\n",
      "       \n",
      "       Args:\n",
      "           path (str): The path to the csv.\n",
      "           label (str): The label or response variable.\n",
      "           \n",
      "        Returns:\n",
      "            \"Features X and label y. \"\n",
      "       \n",
      "       \n"
     ]
    }
   ],
   "source": [
    "print(load_split.__doc__)"
   ]
  },
  {
   "cell_type": "markdown",
   "id": "liked-indiana",
   "metadata": {},
   "source": [
    "<p>Did it work?</p>"
   ]
  },
  {
   "cell_type": "code",
   "execution_count": 186,
   "id": "developmental-supplier",
   "metadata": {},
   "outputs": [],
   "source": [
    "x_2, y_2 = load_split(path_1, 'Machine failure')"
   ]
  },
  {
   "cell_type": "code",
   "execution_count": 187,
   "id": "hungarian-artist",
   "metadata": {},
   "outputs": [
    {
     "name": "stdout",
     "output_type": "stream",
     "text": [
      "<class 'numpy.ndarray'>\n",
      "(10000, 12)\n",
      "[[1.000e+00 2.981e+02 3.086e+02 1.551e+03 4.280e+01 0.000e+00 0.000e+00\n",
      "  0.000e+00 0.000e+00 0.000e+00 0.000e+00 0.000e+00]]\n"
     ]
    }
   ],
   "source": [
    "print(type(x_2))\n",
    "print(x_2.shape)\n",
    "print(x_2[:1])"
   ]
  },
  {
   "cell_type": "code",
   "execution_count": 188,
   "id": "reliable-intention",
   "metadata": {},
   "outputs": [
    {
     "name": "stdout",
     "output_type": "stream",
     "text": [
      "<class 'numpy.ndarray'>\n",
      "(10000,)\n",
      "(array([0, 1], dtype=int64), array([9661,  339], dtype=int64))\n"
     ]
    }
   ],
   "source": [
    "print(type(y_2))\n",
    "print(y_2.shape)\n",
    "print(np.unique(y_2, return_counts=True))"
   ]
  },
  {
   "cell_type": "markdown",
   "id": "digital-modification",
   "metadata": {},
   "source": [
    "<p>\n",
    "It works.<br>\n",
    "In the next step the PCA part is coded into a function.</p>"
   ]
  },
  {
   "cell_type": "code",
   "execution_count": 189,
   "id": "remarkable-preview",
   "metadata": {},
   "outputs": [],
   "source": [
    "def PCA_components(X):\n",
    "    pca = PCA(n_components=2).fit_transform(X)\n",
    "    return pca\n",
    "    "
   ]
  },
  {
   "cell_type": "code",
   "execution_count": 190,
   "id": "casual-subcommittee",
   "metadata": {},
   "outputs": [
    {
     "name": "stdout",
     "output_type": "stream",
     "text": [
      "<class 'numpy.ndarray'>\n"
     ]
    }
   ],
   "source": [
    "pca_2 = PCA_components(x_2)\n",
    "\n",
    "print(type(pca_2))"
   ]
  },
  {
   "cell_type": "code",
   "execution_count": 191,
   "id": "muslim-network",
   "metadata": {},
   "outputs": [
    {
     "name": "stdout",
     "output_type": "stream",
     "text": [
      "<class 'pandas.core.frame.DataFrame'>\n",
      "RangeIndex: 10000 entries, 0 to 9999\n",
      "Data columns (total 2 columns):\n",
      " #   Column  Non-Null Count  Dtype  \n",
      "---  ------  --------------  -----  \n",
      " 0   0       10000 non-null  float64\n",
      " 1   1       10000 non-null  float64\n",
      "dtypes: float64(2)\n",
      "memory usage: 156.4 KB\n",
      "None\n",
      "             0           1\n",
      "0 -4999.479262   10.003017\n",
      "1 -4998.420935 -132.997315\n"
     ]
    }
   ],
   "source": [
    "pca_2_df=pd.DataFrame(pca_2)\n",
    "print(pca_2_df.info())\n",
    "print(pca_2_df.head(2))"
   ]
  },
  {
   "cell_type": "code",
   "execution_count": 192,
   "id": "toxic-salvation",
   "metadata": {},
   "outputs": [],
   "source": [
    "def PCA_visualization(pca, color, title=\"No title\"):\n",
    "    plt.scatter(pca[:,0], pca[:,1], edgecolor='black', color=color)\n",
    "    plt.title(title)\n",
    "    plt.xlabel('PCA 1')\n",
    "    plt.xlabel('PCA 2')\n",
    "    plt.show()"
   ]
  },
  {
   "cell_type": "code",
   "execution_count": 193,
   "id": "earned-chapel",
   "metadata": {},
   "outputs": [
    {
     "data": {
      "image/png": "[encoded data removed]",
      "text/plain": [
       "<Figure size 432x288 with 1 Axes>"
      ]
     },
     "metadata": {
      "needs_background": "light"
     },
     "output_type": "display_data"
    }
   ],
   "source": [
    "PCA_visualization(pca_2, color='rebeccapurple', title='PCA visualization')"
   ]
  },
  {
   "cell_type": "markdown",
   "id": "republican-illness",
   "metadata": {},
   "source": [
    "<p>The process is spread over three functions instead of one big function.\n",
    "   The advantages are:</p>\n",
    "\n",
    "<ul>\n",
    "  <li>More easily understood</li>\n",
    "  <li>Simpler to test</li>\n",
    "  <li>Simpler to debug</li>\n",
    "  <li>Easier to change</li>\n",
    "</ul> "
   ]
  },
  {
   "cell_type": "markdown",
   "id": "9c3a3abe-03f1-4757-98cd-b5e180489aa9",
   "metadata": {},
   "source": [
    "### Passing variables by assignment"
   ]
  },
  {
   "cell_type": "code",
   "execution_count": 194,
   "id": "7daf61d9-59c3-4bb7-acba-00e7e73ca394",
   "metadata": {},
   "outputs": [
    {
     "data": {
      "text/plain": [
       "[1, 2, 3, 4, 5, 6, 7, 8, 9]"
      ]
     },
     "execution_count": 194,
     "metadata": {},
     "output_type": "execute_result"
    }
   ],
   "source": [
    "z = list(np.arange(1,10,1))\n",
    "z"
   ]
  },
  {
   "cell_type": "code",
   "execution_count": 195,
   "id": "5856ab09-2711-47ef-afcf-1490e387c702",
   "metadata": {},
   "outputs": [
    {
     "name": "stdout",
     "output_type": "stream",
     "text": [
      "[1, 2, 3, 4, 5, 6, 7, 8, 9]\n",
      "[1, 2, 3, 4, 5, 6, 7, 8, 9]\n"
     ]
    }
   ],
   "source": [
    "k=z\n",
    "print(k)\n",
    "print(z)"
   ]
  },
  {
   "cell_type": "markdown",
   "id": "a6eae1a3-4093-4e04-9ba2-360f0f537c68",
   "metadata": {},
   "source": [
    "<p>On both sides of the equal sign k and z are equal.<br>\n",
    "This is obvious but can lead to some errors in coding.</p>"
   ]
  },
  {
   "cell_type": "code",
   "execution_count": 196,
   "id": "ce266406-273c-4710-a2a7-084c25adf397",
   "metadata": {},
   "outputs": [
    {
     "name": "stdout",
     "output_type": "stream",
     "text": [
      "[1, 2, 3, 4, 5, 6, 7, 8, 9, 10]\n",
      "[1, 2, 3, 4, 5, 6, 7, 8, 9, 10]\n"
     ]
    }
   ],
   "source": [
    "z.append(10)\n",
    "\n",
    "print(z)\n",
    "print(k)"
   ]
  },
  {
   "cell_type": "markdown",
   "id": "ef936f26-a453-4b59-8097-860334546aaf",
   "metadata": {},
   "source": [
    "<p>The assignment of the integer 3 to the variable a_var does not change.</p>"
   ]
  },
  {
   "cell_type": "code",
   "execution_count": 197,
   "id": "4d8ff009-2a35-4afb-8de7-7f5e39670aa9",
   "metadata": {},
   "outputs": [
    {
     "name": "stdout",
     "output_type": "stream",
     "text": [
      "[1, 2, 3, 4, 5, 6, 7, 8, 9, 10, 11]\n",
      "[1, 2, 3, 4, 5, 6, 7, 8, 9, 10, 11]\n"
     ]
    }
   ],
   "source": [
    "k.append(11)\n",
    "\n",
    "print(k)\n",
    "print(z)"
   ]
  },
  {
   "cell_type": "markdown",
   "id": "a4c8e75d-f872-4d8b-a6f4-89d036b3b72e",
   "metadata": {},
   "source": [
    "<p>\n",
    "Changing k changes z, because k equals z.<br>\n",
    "Assignment works forward from z to k but also backwards from k to z.<br>\n",
    "    Both k and z are pointing to the same <b>location in memory</b>.<br>\n",
    "In Pandas for example this can lead to the notorious copying errors due to chaining.\n",
    "</p>\n",
    "\n",
    "<p>\n",
    "<b>SettingWithCopyWarning:</b><br>\n",
    "A value is trying to be set on a copy of a slice from a DataFrame.<br>\n",
    "This warning appears when pandas encounters something called chain assignment <br>\n",
    "– the combination of chaining and assignment all in one step.<br>\n",
    "<a href=\"https://www.statology.org/pandas-settingwithcopywarning/\" target=\"_blank\">pandas-setting with copy warning</a> \n",
    "</p>\n",
    "\n",
    "<p>\n",
    "Yet if new values are assigned to z, a new location in memory is created.<br>\n",
    "Then z and k are not pointing to the same location and the equality of z=k\n",
    "is broken.\n",
    "</p>"
   ]
  },
  {
   "cell_type": "code",
   "execution_count": 198,
   "id": "fb085bab-a3e5-45d4-9a7d-b4d9ad407cfa",
   "metadata": {},
   "outputs": [
    {
     "name": "stdout",
     "output_type": "stream",
     "text": [
      "[1000, 1100, 1200, 1300, 1400, 1500, 1600, 1700, 1800, 1900]\n",
      "[1, 2, 3, 4, 5, 6, 7, 8, 9, 10, 11]\n"
     ]
    }
   ],
   "source": [
    "z = list(np.arange(1000, 2000, 100))\n",
    "print(z)\n",
    "print(k)"
   ]
  },
  {
   "cell_type": "markdown",
   "id": "14dd8f81-58eb-40dd-a3c7-e316a7193ecf",
   "metadata": {},
   "source": [
    "<p>Changing a list object in memory or inplace points to the old location in memory.</p>"
   ]
  },
  {
   "cell_type": "code",
   "execution_count": 199,
   "id": "4152da71-9c51-4d3b-b45b-fc0843d8a66f",
   "metadata": {},
   "outputs": [],
   "source": [
    "def foo_2(x):\n",
    "    x[1]=99\n",
    "    return x"
   ]
  },
  {
   "cell_type": "code",
   "execution_count": 200,
   "id": "baa0c83c-e3d1-41f0-8ffb-f6b053dbc06e",
   "metadata": {},
   "outputs": [
    {
     "name": "stdout",
     "output_type": "stream",
     "text": [
      "[1000, 99, 1200, 1300, 1400, 1500, 1600, 1700, 1800, 1900]\n"
     ]
    }
   ],
   "source": [
    "foo_2(z)\n",
    "\n",
    "print(z)"
   ]
  },
  {
   "cell_type": "markdown",
   "id": "9ff601c6-3c0e-452d-b1fb-76ad079b9648",
   "metadata": {},
   "source": [
    "<p>This is chaining from k to m.</p>"
   ]
  },
  {
   "cell_type": "code",
   "execution_count": 201,
   "id": "dcd24cab-34db-4df9-8cb2-1b4dad2725e1",
   "metadata": {},
   "outputs": [
    {
     "name": "stdout",
     "output_type": "stream",
     "text": [
      "[1, 99, 3, 4, 5, 6, 7, 8, 9, 10, 11]\n",
      "[1, 99, 3, 4, 5, 6, 7, 8, 9, 10, 11]\n"
     ]
    }
   ],
   "source": [
    "m=foo_2(k)\n",
    "\n",
    "print(k)\n",
    "print(m)"
   ]
  },
  {
   "cell_type": "code",
   "execution_count": 202,
   "id": "9039853b-2a74-494a-b07c-a9426e90c17e",
   "metadata": {},
   "outputs": [],
   "source": [
    "def fomer(x):\n",
    "    y=x+90\n",
    "    return y"
   ]
  },
  {
   "cell_type": "code",
   "execution_count": 203,
   "id": "1fe559cb-7df2-4069-bd3d-05126576742b",
   "metadata": {},
   "outputs": [
    {
     "name": "stdout",
     "output_type": "stream",
     "text": [
      "93\n",
      "3\n"
     ]
    }
   ],
   "source": [
    "a_var=3\n",
    "print(fomer(a_var))\n",
    "print(a_var)"
   ]
  },
  {
   "cell_type": "markdown",
   "id": "5bd49826-29b9-4e18-b1e8-23e7dfbf92a2",
   "metadata": {},
   "source": [
    "<p>\n",
    "As x is assigned to a new variable y, x or a_var does not change.<br>\n",
    "The var y is stored in a new location.</p>\n",
    "\n",
    "<p>\n",
    "The var a_var is an immutable integer fixed at a location in memory.<br>\n",
    "It is disconnected from and cannot be changed directly.<br>\n",
    "It will occupy the location.<br> \n",
    "However it possible to overwrite the int with a new assignement in a new location.<br>\n",
    "This is a subtile but important difference.</p>"
   ]
  },
  {
   "cell_type": "code",
   "execution_count": 204,
   "id": "e0ac11b9-9b05-4121-b7a4-1df45557d0ac",
   "metadata": {},
   "outputs": [
    {
     "name": "stdout",
     "output_type": "stream",
     "text": [
      "5\n"
     ]
    }
   ],
   "source": [
    "a_var=5\n",
    "print(a_var)"
   ]
  },
  {
   "cell_type": "markdown",
   "id": "445b2c0c-7999-4cef-9ebc-4b6493008e85",
   "metadata": {},
   "source": [
    "#### Dangerous assignment to mutable objects\n",
    "<p>Do not live dangerous! Life is not a Hollywood movie.<br>\n",
    "Here x is a mutable argument.<br>\n",
    "The goal is to insert 55 at 1.<br>\n",
    "This has sides effect if the func is repeatedly applied.<br>\n",
    "It undemines the goal and produces unexpected behavior.</p>"
   ]
  },
  {
   "cell_type": "code",
   "execution_count": 205,
   "id": "d0f40848-bdbd-41fe-a0da-e8e2febd3759",
   "metadata": {},
   "outputs": [],
   "source": [
    "def into(x):\n",
    "    x.insert(1,55)\n",
    "    return x"
   ]
  },
  {
   "cell_type": "code",
   "execution_count": 206,
   "id": "5d1b837d-a617-48b7-8f89-3e4d6e568c7d",
   "metadata": {},
   "outputs": [
    {
     "data": {
      "text/plain": [
       "[123, 55, 124, 125, 126, 127, 128, 129]"
      ]
     },
     "execution_count": 206,
     "metadata": {},
     "output_type": "execute_result"
    }
   ],
   "source": [
    "x_11 = list(np.arange(123,130,1))\n",
    "into(x_11)"
   ]
  },
  {
   "cell_type": "code",
   "execution_count": 207,
   "id": "6bdd0894-478f-43d1-8350-d29114144df8",
   "metadata": {},
   "outputs": [
    {
     "data": {
      "text/plain": [
       "[123, 55, 55, 124, 125, 126, 127, 128, 129]"
      ]
     },
     "execution_count": 207,
     "metadata": {},
     "output_type": "execute_result"
    }
   ],
   "source": [
    "into(x_11)"
   ]
  },
  {
   "cell_type": "markdown",
   "id": "61986808-228f-4921-b8fb-a2243ac95452",
   "metadata": {},
   "source": [
    "<p>It is necessary to control the process to maintain the goal.</p>"
   ]
  },
  {
   "cell_type": "code",
   "execution_count": 208,
   "id": "2629de66-4d44-4ed0-b0e9-a4d65d00178e",
   "metadata": {},
   "outputs": [],
   "source": [
    "def into_2(j):\n",
    "    \n",
    "    if j[1]==122225:\n",
    "        j\n",
    "    else:\n",
    "        j.insert(1,122225)\n",
    "    return j\n"
   ]
  },
  {
   "cell_type": "code",
   "execution_count": 209,
   "id": "842f52c5-8071-464d-90d5-178d5fecacef",
   "metadata": {},
   "outputs": [
    {
     "data": {
      "text/plain": [
       "[233, 122225, 234, 235, 236, 237, 238, 239, 240, 241, 242]"
      ]
     },
     "execution_count": 209,
     "metadata": {},
     "output_type": "execute_result"
    }
   ],
   "source": [
    "x_22 = list(np.arange(233,243,1))\n",
    "into_2(x_22)"
   ]
  },
  {
   "cell_type": "code",
   "execution_count": 210,
   "id": "436d0610-2d5e-4e9f-8b07-1f85e85cba49",
   "metadata": {},
   "outputs": [
    {
     "name": "stdout",
     "output_type": "stream",
     "text": [
      "[233, 122225, 234, 235, 236, 237, 238, 239, 240, 241, 242]\n",
      "[233, 122225, 234, 235, 236, 237, 238, 239, 240, 241, 242]\n"
     ]
    }
   ],
   "source": [
    "print(into_2(x_22))\n",
    "print(into_2(x_22))"
   ]
  },
  {
   "cell_type": "markdown",
   "id": "f3090a9c-f36d-4914-bfcd-eb61f57a94ec",
   "metadata": {},
   "source": [
    "<p>Changing the default argument to immutable.</p>"
   ]
  },
  {
   "cell_type": "code",
   "execution_count": 211,
   "id": "04ee78ec-f5e2-40da-ac15-4d8f9381e106",
   "metadata": {},
   "outputs": [],
   "source": [
    "# The default argument of df is immutable\n",
    "def add_col(values, df=None):\n",
    "\n",
    "  # Code block\n",
    "    \n",
    "            if df is None:\n",
    "                df = pd.DataFrame()\n",
    "            df['col_{}'.format(len(df.columns))] = values\n",
    "            return df"
   ]
  },
  {
   "cell_type": "code",
   "execution_count": 212,
   "id": "15baeb0f-faa1-46fc-aca5-d6b327c456d5",
   "metadata": {},
   "outputs": [
    {
     "name": "stdout",
     "output_type": "stream",
     "text": [
      "None\n"
     ]
    }
   ],
   "source": [
    "print(add_col.__doc__)"
   ]
  },
  {
   "cell_type": "code",
   "execution_count": 213,
   "id": "325fd447-0637-402e-aba0-eeffbfa54f83",
   "metadata": {},
   "outputs": [
    {
     "data": {
      "text/html": [
       "<div>\n",
       "<style scoped>\n",
       "    .dataframe tbody tr th:only-of-type {\n",
       "        vertical-align: middle;\n",
       "    }\n",
       "\n",
       "    .dataframe tbody tr th {\n",
       "        vertical-align: top;\n",
       "    }\n",
       "\n",
       "    .dataframe thead th {\n",
       "        text-align: right;\n",
       "    }\n",
       "</style>\n",
       "<table border=\"1\" class=\"dataframe\">\n",
       "  <thead>\n",
       "    <tr style=\"text-align: right;\">\n",
       "      <th></th>\n",
       "      <th>col_0</th>\n",
       "    </tr>\n",
       "  </thead>\n",
       "  <tbody>\n",
       "    <tr>\n",
       "      <th>0</th>\n",
       "      <td>233</td>\n",
       "    </tr>\n",
       "    <tr>\n",
       "      <th>1</th>\n",
       "      <td>122225</td>\n",
       "    </tr>\n",
       "    <tr>\n",
       "      <th>2</th>\n",
       "      <td>234</td>\n",
       "    </tr>\n",
       "    <tr>\n",
       "      <th>3</th>\n",
       "      <td>235</td>\n",
       "    </tr>\n",
       "  </tbody>\n",
       "</table>\n",
       "</div>"
      ],
      "text/plain": [
       "    col_0\n",
       "0     233\n",
       "1  122225\n",
       "2     234\n",
       "3     235"
      ]
     },
     "execution_count": 213,
     "metadata": {},
     "output_type": "execute_result"
    }
   ],
   "source": [
    "add_col(values=x_22, df=None).head(4)"
   ]
  },
  {
   "cell_type": "markdown",
   "id": "overhead-haiti",
   "metadata": {},
   "source": [
    "## Functions are objects"
   ]
  },
  {
   "cell_type": "code",
   "execution_count": 214,
   "id": "835f07a0-e6f9-40f4-983c-59b8299029b9",
   "metadata": {},
   "outputs": [],
   "source": [
    "# Any function for demonstration\n",
    "def concatenate_strings(*args):\n",
    "    text = \"\"\n",
    "    for arg in args:\n",
    "        text += \" \" + arg + \" \"\n",
    "    return text\n",
    "    "
   ]
  },
  {
   "cell_type": "code",
   "execution_count": 215,
   "id": "b8666bb2-2300-42cb-814b-568e312e35df",
   "metadata": {},
   "outputs": [
    {
     "name": "stdout",
     "output_type": "stream",
     "text": [
      "<class 'function'>\n"
     ]
    },
    {
     "data": {
      "text/plain": [
       "' Full  moon  is rising. '"
      ]
     },
     "execution_count": 215,
     "metadata": {},
     "output_type": "execute_result"
    }
   ],
   "source": [
    "print(type(concatenate_strings))\n",
    "concatenate_strings(\"Full\", \"moon\", \"is rising.\")"
   ]
  },
  {
   "cell_type": "markdown",
   "id": "b3e88755-1399-4b62-81f5-cf00452a3619",
   "metadata": {},
   "source": [
    "<p><b>Referencing the function.</b>\n",
    "<br> returns the adress in memory</p>"
   ]
  },
  {
   "cell_type": "code",
   "execution_count": 216,
   "id": "15aa71da-9047-4cfc-884d-80239d68933f",
   "metadata": {},
   "outputs": [
    {
     "data": {
      "text/plain": [
       "<function __main__.concatenate_strings(*args)>"
      ]
     },
     "execution_count": 216,
     "metadata": {},
     "output_type": "execute_result"
    }
   ],
   "source": [
    "concatenate_strings"
   ]
  },
  {
   "cell_type": "code",
   "execution_count": 217,
   "id": "6352f41b-2733-49f9-ae08-2ef0a299b142",
   "metadata": {},
   "outputs": [
    {
     "name": "stdout",
     "output_type": "stream",
     "text": [
      "<class 'function'>\n"
     ]
    }
   ],
   "source": [
    "x_22 = concatenate_strings\n",
    "print(type(x_22))"
   ]
  },
  {
   "cell_type": "markdown",
   "id": "109e4c87-f205-4e79-ba40-608085bd7bb1",
   "metadata": {},
   "source": [
    "<p>Calling the function with parenthesis.</p>"
   ]
  },
  {
   "cell_type": "code",
   "execution_count": 218,
   "id": "4902eb8b-bda2-4154-bb15-e1929cb41424",
   "metadata": {},
   "outputs": [
    {
     "data": {
      "text/plain": [
       "' Full  moon  is rising. '"
      ]
     },
     "execution_count": 218,
     "metadata": {},
     "output_type": "execute_result"
    }
   ],
   "source": [
    "x_22(\"Full\", \"moon\", \"is rising.\")"
   ]
  },
  {
   "cell_type": "markdown",
   "id": "fdf39681-b6fc-43fe-baed-8eb5e04b27dd",
   "metadata": {},
   "source": [
    "<p>Storing functions in a list and calling with slicing.</p>"
   ]
  },
  {
   "cell_type": "code",
   "execution_count": 219,
   "id": "7ab1e5a1-a7ff-46ea-a726-8f881a49b480",
   "metadata": {},
   "outputs": [
    {
     "name": "stdout",
     "output_type": "stream",
     "text": [
      "7\n",
      "<class 'list'>\n",
      "7\n"
     ]
    }
   ],
   "source": [
    "string_function_collection = [concatenate_strings, print, len, chr, str, ord, type]\n",
    "\n",
    "print(len(string_function_collection))\n",
    "\n",
    "string_function_collection[1](string_function_collection[-1](string_function_collection))\n",
    "string_function_collection[1](string_function_collection[2](string_function_collection))"
   ]
  },
  {
   "cell_type": "markdown",
   "id": "81d945ca-560a-4b0e-b1ce-83adde5ef56c",
   "metadata": {},
   "source": [
    "<p>Calling from a dict.</p>"
   ]
  },
  {
   "cell_type": "code",
   "execution_count": 220,
   "id": "36a9d999-4f34-4832-b605-6a4bf045508b",
   "metadata": {},
   "outputs": [
    {
     "name": "stdout",
     "output_type": "stream",
     "text": [
      " Full  moon  is rising. \n",
      "<class 'str'>\n",
      "24\n"
     ]
    }
   ],
   "source": [
    "string_function_dict = \\\n",
    "{\"concat_func\":concatenate_strings, \"type_func\":type, \"len_func\":len}\n",
    "\n",
    "\n",
    "text_11 = string_function_dict[\"concat_func\"](\"Full\", \"moon\", \"is rising.\")\n",
    "print(text_11)\n",
    "\n",
    "text_11_type = string_function_dict[\"type_func\"](text_11)\n",
    "print(text_11_type)\n",
    "\n",
    "text_11_len = string_function_dict[\"len_func\"](text_11)\n",
    "print(text_11_len)"
   ]
  },
  {
   "cell_type": "markdown",
   "id": "f93d64aa-4ef5-4af8-ac42-080aa0af853a",
   "metadata": {},
   "source": [
    "<p>Using functions inside a function.</p>"
   ]
  },
  {
   "cell_type": "code",
   "execution_count": 221,
   "id": "2e25ada7-bc32-4463-8b3e-92847e6f1542",
   "metadata": {},
   "outputs": [],
   "source": [
    "def check_docstring(function):\n",
    "    \"\"\"This func checks an input func for a doc string\"\"\"\n",
    "    return function.__doc__ is not None"
   ]
  },
  {
   "cell_type": "code",
   "execution_count": 222,
   "id": "4a288972-dec2-457a-869f-617777d1001a",
   "metadata": {},
   "outputs": [
    {
     "data": {
      "text/plain": [
       "False"
      ]
     },
     "execution_count": 222,
     "metadata": {},
     "output_type": "execute_result"
    }
   ],
   "source": [
    "check_docstring(concatenate_strings)"
   ]
  },
  {
   "cell_type": "code",
   "execution_count": 223,
   "id": "fa5241f5-b19e-46ca-9930-4d3436038f1a",
   "metadata": {},
   "outputs": [
    {
     "data": {
      "text/plain": [
       "True"
      ]
     },
     "execution_count": 223,
     "metadata": {},
     "output_type": "execute_result"
    }
   ],
   "source": [
    "check_docstring(print)"
   ]
  },
  {
   "cell_type": "markdown",
   "id": "3b0dccae-a04f-4bb5-8ef9-2f8ff0de65c2",
   "metadata": {
    "tags": []
   },
   "source": [
    "### Nested functions\n",
    "<p>or inner, helper, child funcs.</p>\n",
    "<p>\n",
    "The function below creates a function within a function\n",
    "and applies the newly created func based on condition.\n",
    "</p>"
   ]
  },
  {
   "cell_type": "code",
   "execution_count": 224,
   "id": "9b8a5c9b-c518-49f9-b190-fe9464b6422c",
   "metadata": {},
   "outputs": [],
   "source": [
    "def shift_n_5(*args):\n",
    "    \n",
    "    \"\"\"The function checks for number in args and if then shifts by 5.\"\"\"\n",
    "    \n",
    "    def subtract(arg):\n",
    "        k = arg - 5\n",
    "        return k\n",
    "    \n",
    "    args_list =[]\n",
    "    \n",
    "    for arg in args:\n",
    "        if isinstance(arg, (int, float)):\n",
    "            args_list.append(subtract(arg))\n",
    "        else:\n",
    "            args_list.append('NaN')\n",
    "    \n",
    "    return args_list\n",
    " "
   ]
  },
  {
   "cell_type": "code",
   "execution_count": 225,
   "id": "8de82879-c274-4765-a66b-702388585c9d",
   "metadata": {},
   "outputs": [
    {
     "data": {
      "text/plain": [
       "'The function checks for number in args and if then shifts by 5.'"
      ]
     },
     "execution_count": 225,
     "metadata": {},
     "output_type": "execute_result"
    }
   ],
   "source": [
    "shift_n_5.__doc__"
   ]
  },
  {
   "cell_type": "code",
   "execution_count": 226,
   "id": "4be6afe9-7ec2-4add-9547-d17d96bd6f42",
   "metadata": {},
   "outputs": [
    {
     "name": "stdout",
     "output_type": "stream",
     "text": [
      "<function shift_n_5 at 0x000001E786E6A798>\n",
      "[518, 439, 995, 'NaN']\n",
      "[518, 439, 995, 'NaN']\n"
     ]
    }
   ],
   "source": [
    "print(shift_n_5)\n",
    "print(shift_n_5(523, 444, 1000, \"car\"))\n",
    "\n",
    "x_34=shift_n_5\n",
    "print(x_34(523, 444, 1000, \"car\"))"
   ]
  },
  {
   "cell_type": "markdown",
   "id": "17588efe-9236-46c8-a118-8a16555ad34e",
   "metadata": {},
   "source": [
    "<p>Function from functionmap.</p>"
   ]
  },
  {
   "cell_type": "code",
   "execution_count": 227,
   "id": "b3850e56-c0a4-4441-a374-0f408ea8ca30",
   "metadata": {},
   "outputs": [],
   "source": [
    "def get_funky(func, data):\n",
    "    \"\"\"This functions get a function stored in a function map \n",
    "       and applies the func to data.\"\"\"\n",
    "    \n",
    "    funky_dict = {'type':type, 'len':len, 'print':print} \n",
    "    funky_apply = funky_dict[func]\n",
    "    result = funky_apply(data)\n",
    "    \n",
    "    return result"
   ]
  },
  {
   "cell_type": "code",
   "execution_count": 228,
   "id": "a5f75bda-68cf-4753-a673-03f2cabb3298",
   "metadata": {},
   "outputs": [
    {
     "data": {
      "text/plain": [
       "'This functions get a function stored in a function map \\n       and applies the func to data.'"
      ]
     },
     "execution_count": 228,
     "metadata": {},
     "output_type": "execute_result"
    }
   ],
   "source": [
    "get_funky.__doc__"
   ]
  },
  {
   "cell_type": "code",
   "execution_count": 229,
   "id": "5f07a61a-2abe-4c9b-9baa-792db961936e",
   "metadata": {},
   "outputs": [],
   "source": [
    "get_funky.__closure__"
   ]
  },
  {
   "cell_type": "code",
   "execution_count": 230,
   "id": "1f7c0e19-4544-4d09-aaeb-4ee9f9499704",
   "metadata": {},
   "outputs": [
    {
     "name": "stdout",
     "output_type": "stream",
     "text": [
      "In a car wash.\n",
      "<class 'str'>\n",
      "14\n"
     ]
    }
   ],
   "source": [
    "get_funky('print', data = \"In a car wash.\")\n",
    "print(get_funky('type', data = \"In a car wash.\"))\n",
    "print(get_funky('len', data = \"In a car wash.\"))"
   ]
  },
  {
   "cell_type": "markdown",
   "id": "a9234e72-8463-4434-9cfb-257b2c92db58",
   "metadata": {},
   "source": [
    "<p>This function does math operations on requested function.<br>\n",
    "It creates the math function inside the main function.</p>"
   ]
  },
  {
   "cell_type": "markdown",
   "id": "cdf64337-00ab-4a52-9389-914a1e1c02ed",
   "metadata": {},
   "source": [
    "### Returning functions as arguments of an outer function.\n",
    "<p>At first the math functions are created stand alone and are tested.</p>"
   ]
  },
  {
   "cell_type": "code",
   "execution_count": 231,
   "id": "9ef1891a-9e78-4452-b0f4-92950bc1ffa1",
   "metadata": {},
   "outputs": [],
   "source": [
    "def multiply(*numbers):\n",
    "    product = 1\n",
    "    for multiplicand in numbers:\n",
    "            product *= multiplicand\n",
    "    return product    \n",
    "            "
   ]
  },
  {
   "cell_type": "code",
   "execution_count": 232,
   "id": "655bb51d-b996-40f2-a8ca-39a21752a714",
   "metadata": {},
   "outputs": [
    {
     "name": "stdout",
     "output_type": "stream",
     "text": [
      "6860\n",
      "6860\n"
     ]
    }
   ],
   "source": [
    "print(multiply(4,5,343))\n",
    "print(4*5*343)"
   ]
  },
  {
   "cell_type": "code",
   "execution_count": 233,
   "id": "e0ef0ed0-9a58-4689-834f-5e212018891a",
   "metadata": {},
   "outputs": [],
   "source": [
    "def division(*numbers):\n",
    "    quotient=numbers[0]\n",
    "    for divisor in numbers[1:]:\n",
    "        # print(divisor)\n",
    "        quotient /= divisor\n",
    "        # print(quotient)\n",
    "    return quotient"
   ]
  },
  {
   "cell_type": "code",
   "execution_count": 234,
   "id": "33079357-a731-494c-9fa6-d78dc3b186b3",
   "metadata": {},
   "outputs": [
    {
     "name": "stdout",
     "output_type": "stream",
     "text": [
      "5.0\n",
      "5.0\n"
     ]
    }
   ],
   "source": [
    "print(division(10, 2))\n",
    "print(10/2)\n"
   ]
  },
  {
   "cell_type": "code",
   "execution_count": 235,
   "id": "748b0009-add0-4683-80d8-37e6771dce6a",
   "metadata": {},
   "outputs": [
    {
     "name": "stdout",
     "output_type": "stream",
     "text": [
      "948.1666666666666\n",
      "948.1666666666666\n"
     ]
    }
   ],
   "source": [
    "print(division(5689, 2, 3))\n",
    "print(5689/2/3)"
   ]
  },
  {
   "cell_type": "code",
   "execution_count": 236,
   "id": "889b087f-d58b-4fa2-a6f8-aa0610748391",
   "metadata": {},
   "outputs": [],
   "source": [
    "def square_roots(*args):\n",
    "    \n",
    "    sqrt_roots = []\n",
    "    \n",
    "    for arg in args:\n",
    "        sqrt = np.sqrt(arg)\n",
    "        sqrt = round(sqrt,2)\n",
    "        sqrt_roots.append(sqrt)\n",
    "        \n",
    "    return sqrt_roots"
   ]
  },
  {
   "cell_type": "code",
   "execution_count": 237,
   "id": "24e41fb2-d76d-4e62-b6a1-c112f4096491",
   "metadata": {},
   "outputs": [
    {
     "data": {
      "text/plain": [
       "[1.0, 2.0, 3.0]"
      ]
     },
     "execution_count": 237,
     "metadata": {},
     "output_type": "execute_result"
    }
   ],
   "source": [
    "square_roots(1,4,9)"
   ]
  },
  {
   "cell_type": "code",
   "execution_count": 238,
   "id": "6aad0eae-851b-4eb3-bbce-3be295ed46ef",
   "metadata": {},
   "outputs": [],
   "source": [
    "def math_ops(foo):\n",
    "    \n",
    "    if foo == 'multiply':\n",
    "        def multiply(*numbers):\n",
    "            product = 1\n",
    "            for multiplicand in numbers:\n",
    "                    product *= multiplicand\n",
    "            return product    \n",
    "        return multiply\n",
    "    \n",
    "    elif foo == \"division\":\n",
    "            \n",
    "            def division(*numbers):\n",
    "                quotient=numbers[0]\n",
    "                for divisor in numbers[1:]:\n",
    "                        quotient /= divisor\n",
    "                return quotient\n",
    "            return division\n",
    "        \n",
    "    elif foo == \"square_roots\":\n",
    "        \n",
    "        def square_roots(*args):\n",
    "            \n",
    "            sqrt_roots = []\n",
    "            \n",
    "            for arg in args:\n",
    "                sqrt = np.sqrt(arg)\n",
    "                sqrt = round(sqrt,2)\n",
    "                sqrt_roots.append(sqrt)\n",
    "            return sqrt_roots\n",
    "        return square_roots\n",
    "    \n",
    "    else:\n",
    "        print('The function you requested is yet not included in the collection.')\n",
    " "
   ]
  },
  {
   "cell_type": "code",
   "execution_count": 239,
   "id": "322ff703-8ca2-49d3-95bc-1cadd37c3f44",
   "metadata": {},
   "outputs": [
    {
     "name": "stdout",
     "output_type": "stream",
     "text": [
      "<function math_ops.<locals>.multiply at 0x000001E786CEEEE8>\n",
      "120\n",
      "120\n"
     ]
    }
   ],
   "source": [
    "print(math_ops('multiply'))\n",
    "\n",
    "multiply_1 = math_ops('multiply')\n",
    "print(multiply_1(4,5,3,2))\n",
    "print(4*5*3*2)"
   ]
  },
  {
   "cell_type": "code",
   "execution_count": 240,
   "id": "f1c02d0f-7c9a-4df0-9fb2-89a782f0c0e7",
   "metadata": {},
   "outputs": [
    {
     "name": "stdout",
     "output_type": "stream",
     "text": [
      "<function math_ops.<locals>.division at 0x000001E786C6E0D8>\n",
      "100.0\n",
      "100.0\n"
     ]
    }
   ],
   "source": [
    "print(math_ops(\"division\"))\n",
    "\n",
    "division_1 = math_ops(\"division\")\n",
    "print(division_1(100000, 20, 10, 5))\n",
    "print(100000 / 20 / 10 / 5)"
   ]
  },
  {
   "cell_type": "code",
   "execution_count": 241,
   "id": "45e51607-3086-4191-ad7c-1a467998b177",
   "metadata": {},
   "outputs": [
    {
     "name": "stdout",
     "output_type": "stream",
     "text": [
      "<function math_ops.<locals>.square_roots at 0x000001E786C6E438>\n",
      "[316.23, 4.47, 3.0, 2.0]\n",
      "316.22776601683796\n"
     ]
    }
   ],
   "source": [
    "# square_roots\n",
    "print(math_ops(\"square_roots\"))\n",
    "\n",
    "square_roots_1 = math_ops(\"square_roots\")\n",
    "print(square_roots_1(100000, 20, 9, 4))\n",
    "print(np.sqrt(100000))"
   ]
  },
  {
   "cell_type": "code",
   "execution_count": 242,
   "id": "1708268d-7482-48f6-8cd4-cc0a3ed128ff",
   "metadata": {},
   "outputs": [
    {
     "name": "stdout",
     "output_type": "stream",
     "text": [
      "The function you requested is yet not included in the collection.\n",
      "None\n"
     ]
    }
   ],
   "source": [
    "print(math_ops(\"add\"))"
   ]
  },
  {
   "cell_type": "markdown",
   "id": "62ee9720-ccb4-47dd-b5bc-543c6e424e12",
   "metadata": {},
   "source": [
    "### Closures\n",
    "\n",
    "<p>\n",
    "rely on the concept of the variable scope (local, global, built-in).<br>\n",
    "In particular the concept of nonlocal variables is important.<br>\n",
    "Nested child functions inside parent outer functions can access<br> \n",
    "variables defined in the parent scope called nonlocal variables.\n",
    "\n",
    "<p>\n",
    "It is a method to keep track of the variables througout <br>\n",
    "the function pipeline from local to\n",
    "nonlocal variables of the parent scope.<br>\n",
    "Closures makes it possible to call nonlocal variables even outside the parent scope.<br>\n",
    "</p>\n",
    "<p>\n",
    "For this purpose Python attaches any variable not longer in scope to the function object.<br>\n",
    "The result is a tuple of variables no longer in scope, but still accessible.<br>\n",
    "The tuple is stored in the closure-attribute of the function.\n",
    "</p>"
   ]
  },
  {
   "cell_type": "code",
   "execution_count": 243,
   "id": "e6d60186-1cb8-4d63-92c0-b56e3efc4d2d",
   "metadata": {},
   "outputs": [],
   "source": [
    "def outer_parent_func(argument_1, argument_2):\n",
    "    # do anything\n",
    "    value_1 = 35\n",
    "    result_1 = argument_1 + argument_2 + value_1\n",
    "    print(result_1)\n",
    "\n",
    "    def inner_child_func():\n",
    "        # The child func can acess the nonlocal variables of the parent function\n",
    "        # Here argument_1, argument_2, value_1\n",
    "        result_2 = argument_1 * argument_2 * value_1\n",
    "        print(result_2)\n",
    "        result_2 = result_2 + result_1\n",
    "        \n",
    "        return result_2\n",
    "    \n",
    "    return inner_child_func"
   ]
  },
  {
   "cell_type": "code",
   "execution_count": 244,
   "id": "fa25daa8-d98b-458a-95c4-573ecd063e54",
   "metadata": {},
   "outputs": [
    {
     "name": "stdout",
     "output_type": "stream",
     "text": [
      "70\n",
      "8750\n",
      "8820\n"
     ]
    }
   ],
   "source": [
    "closure_func_1 = outer_parent_func(25, 10)\n",
    "print(closure_func_1())"
   ]
  },
  {
   "cell_type": "code",
   "execution_count": 245,
   "id": "2c74cf9e-88be-48a0-a5c2-19f6ac7d6682",
   "metadata": {},
   "outputs": [
    {
     "name": "stdout",
     "output_type": "stream",
     "text": [
      "(<cell at 0x000001E786CFF9A8: int object at 0x00007FFA8DD5A4A0>, <cell at 0x000001E786CFF078: int object at 0x00007FFA8DD5A2C0>, <cell at 0x000001E786CFF2B8: int object at 0x00007FFA8DD5AA40>, <cell at 0x000001E786778F18: int object at 0x00007FFA8DD5A5E0>)\n"
     ]
    }
   ],
   "source": [
    "print(closure_func_1.__closure__)"
   ]
  },
  {
   "cell_type": "code",
   "execution_count": 246,
   "id": "b9a7ac05-8fc9-41b0-b3d9-c37ffe39d1c2",
   "metadata": {},
   "outputs": [
    {
     "name": "stdout",
     "output_type": "stream",
     "text": [
      "<class 'tuple'>\n"
     ]
    }
   ],
   "source": [
    "print(type(closure_func_1.__closure__))"
   ]
  },
  {
   "cell_type": "code",
   "execution_count": 247,
   "id": "8eaff092-c2f0-4da7-9b91-d7f33b29cc1a",
   "metadata": {},
   "outputs": [
    {
     "name": "stdout",
     "output_type": "stream",
     "text": [
      "4\n"
     ]
    }
   ],
   "source": [
    "print(len(closure_func_1.__closure__))"
   ]
  },
  {
   "cell_type": "code",
   "execution_count": 248,
   "id": "3aa7fef0-916f-40ca-9e58-2ca62a4da917",
   "metadata": {},
   "outputs": [
    {
     "name": "stdout",
     "output_type": "stream",
     "text": [
      "<cell at 0x000001E786CFF9A8: int object at 0x00007FFA8DD5A4A0>\n"
     ]
    }
   ],
   "source": [
    "print(closure_func_1.__closure__[0])"
   ]
  },
  {
   "cell_type": "code",
   "execution_count": 249,
   "id": "e5b61023-00a6-4496-b2d6-12a86c10abaa",
   "metadata": {},
   "outputs": [
    {
     "name": "stdout",
     "output_type": "stream",
     "text": [
      "25\n"
     ]
    }
   ],
   "source": [
    "print(closure_func_1.__closure__[0].cell_contents)"
   ]
  },
  {
   "cell_type": "markdown",
   "id": "a52c06ee-37de-4d10-bf1e-d8d94a7fbe80",
   "metadata": {},
   "source": [
    "<p>The variables set and produced througout the function pipeline.</p>"
   ]
  },
  {
   "cell_type": "code",
   "execution_count": 250,
   "id": "cd180a44-e175-4983-a7f6-e6b995775a58",
   "metadata": {},
   "outputs": [
    {
     "name": "stdout",
     "output_type": "stream",
     "text": [
      "[25, 10, 70, 35]\n"
     ]
    }
   ],
   "source": [
    "print([cell.cell_contents for cell in closure_func_1.__closure__])"
   ]
  },
  {
   "cell_type": "markdown",
   "id": "cf73a3b7-c1f7-41b2-9d0f-e500b8b1806e",
   "metadata": {},
   "source": [
    "## Decorators\n",
    "\n",
    "<p>are based on nested functions, but provide shortcuts to the conventional way of\n",
    "executing those.<br>\n",
    "Decoration means attaching a decorating func, which changes the behavior of another func, which could stand alone, but is enhanced or modified by the decorator func.</p>\n",
    "\n",
    "\n",
    "<p>\n",
    "The inner func changes the behavior or\n",
    "manipulates the func arg taken in.<br>\n",
    "The args of the func taken in are manipulated by the inner or wrapper func.<br>\n",
    "The wrapper function wraps in the main decorated function taken in by the decorator func one level above.<br>\n",
    "This \n",
    "</p>\n",
    "\n",
    "<p>\n",
    "\"Decorator: A decorator is used to supercharge or modify a function. A decorator is a higher-order function that wraps another function and enhances it or changes it.\"<br>\n",
    "<a href=\"https://www.geeksforgeeks.org/timing-functions-with-decorators-python/\" target=\"_blank\">geeksforgeeks</a> \n",
    "</p>\n",
    "\n",
    "<p>Without decorator:</p>"
   ]
  },
  {
   "cell_type": "code",
   "execution_count": 251,
   "id": "8b7f5318-a299-4de7-a1e6-73ba9fd2ae78",
   "metadata": {},
   "outputs": [
    {
     "name": "stdout",
     "output_type": "stream",
     "text": [
      "2500\n"
     ]
    }
   ],
   "source": [
    "# The outer func takes in a func as an arg\n",
    "def raise_power_args(foo):\n",
    "    # The inner func changes the behavior or\n",
    "    # manipulates the func arg taken in\n",
    "    # The args of the func taken in are manipulated by the inner func.\n",
    "    def apply_power(p1, p2):\n",
    "        return foo(p1**2, p2**2)\n",
    "    return apply_power\n",
    "\n",
    "# @raise_power_args\n",
    "def multiply_args(a1, a2):\n",
    "    ar= a1 * a2\n",
    "    return ar\n",
    "\n",
    "# The outer function takes the multiply func as an arg\n",
    "multiply_args_33 = raise_power_args(multiply_args)\n",
    "# The construct multiply_args_33 takes \n",
    "# in the args to multiply_args coherent with the args of apply_power\n",
    "multiply_args_33_result = multiply_args_33(5,10)\n",
    "print(multiply_args_33_result)"
   ]
  },
  {
   "cell_type": "code",
   "execution_count": 252,
   "id": "75e089e0-3e1c-4a27-982c-214b26c33830",
   "metadata": {},
   "outputs": [
    {
     "data": {
      "text/plain": [
       "2500"
      ]
     },
     "execution_count": 252,
     "metadata": {},
     "output_type": "execute_result"
    }
   ],
   "source": [
    "# Checking\n",
    "5**2 * 10**2"
   ]
  },
  {
   "cell_type": "markdown",
   "id": "9dfede27-bf65-4778-9a07-4927d4fb4a45",
   "metadata": {},
   "source": [
    "<p>With decorator:</p>"
   ]
  },
  {
   "cell_type": "code",
   "execution_count": 253,
   "id": "57bd48b2-cc85-4b6f-83e8-d104a54d1d82",
   "metadata": {},
   "outputs": [
    {
     "name": "stdout",
     "output_type": "stream",
     "text": [
      "2500\n"
     ]
    }
   ],
   "source": [
    "# Definitions of functions\n",
    "# The same like above\n",
    "def raise_power_args(foo):\n",
    "    def apply_power(p1, p2):\n",
    "        return foo(p1**2, p2**2)\n",
    "    return apply_power\n",
    "\n",
    "# Setting up the decorator\n",
    "@raise_power_args\n",
    "def multiply_args(a1, a2):\n",
    "    ar= a1 * a2\n",
    "    return ar\n",
    "\n",
    "# The decorator substitutes this expression: raise_power_args(multiply_args)\n",
    "# It is equivalent.\n",
    "# The multiply_args function is immediately applied.\n",
    "multiply_args_66_result = multiply_args(5, 10)\n",
    "print(multiply_args_66_result)"
   ]
  },
  {
   "cell_type": "code",
   "execution_count": 254,
   "id": "3f3108b2-78b3-4beb-8a10-845c6c4e0fea",
   "metadata": {},
   "outputs": [
    {
     "name": "stdout",
     "output_type": "stream",
     "text": [
      "raise_power_args\n"
     ]
    }
   ],
   "source": [
    "print(raise_power_args.__name__)"
   ]
  },
  {
   "cell_type": "markdown",
   "id": "c4c35ce1-e25f-4478-8537-1f362e8c8a6a",
   "metadata": {},
   "source": [
    "#### Wrapper functions\n",
    "\n",
    "<p>\n",
    "Decorators take in prinicipal only one argument: the function to be decorated.<br>\n",
    "(There is a workaround to this, when decorators can take arguments.)<br>\n",
    "Inside a decorator a wrapper function is defined.<br>\n",
    "It is suitable to define the args of the wrapper with numerous *args and **kwargs arguments.<br>\n",
    "This makes the coordination with the decorated func easier.<br>\n",
    "The wrappers adds code to manipulate the decorated function, for example adds a timer.<br>\n",
    "</p>\n",
    "\n",
    "#### Timer function\n",
    "<p>\n",
    "\"The Timer Function using Decorator:<br>\n",
    "The timer function is one of the applications of decorators. In the below example, \n",
    "we have made a timer_func function that accepts a function object func.\"<br>\n",
    "<a href=\"https://www.geeksforgeeks.org/timing-functions-with-decorators-python/\" target=\"_blank\">geeksforgeeks</a> \n",
    "</p>\n",
    "\n",
    "<p>\n",
    "<b>Problem:</b><br>\n",
    "neither version of the timer function is working.<br>\n",
    "I will later looking for a solution again.<br>\n",
    "The timer function works.<br>\n",
    "However the output is only shown in the second run after the decoration.\n",
    "</p>"
   ]
  },
  {
   "cell_type": "code",
   "execution_count": 255,
   "id": "c5092dfd-215c-461d-8689-38340611d947",
   "metadata": {},
   "outputs": [],
   "source": [
    "def timemeasure(func):\n",
    "    \n",
    "    \"\"\"Measures the execution time of a function = func.\n",
    "    \n",
    "       Args: an input func.\n",
    "       \n",
    "       Returns: the execution time of func.\"\"\"\n",
    "    \n",
    "    # import time\n",
    "    \n",
    "    # main function execution_time \n",
    "    # the nested inner function measures wraps the main function func \n",
    "    # through the outer func execution_time\n",
    "    def wrapper(*args):\n",
    "        start_time = time()\n",
    "        print(\"starttime:\", start_time)\n",
    "        # Calling the main_function main()\n",
    "        output =  func(*args)\n",
    "        endtime = time()\n",
    "        print(\"endtime:\", endtime)\n",
    "        runtime = endtime - start_time\n",
    "        # print(execution_time)\n",
    "        print(f'runtime: {runtime: .20f} seconds')\n",
    "        return output\n",
    "    return wrapper"
   ]
  },
  {
   "cell_type": "code",
   "execution_count": 256,
   "id": "ba5a9580-cf6c-49cf-9f4d-1867e3b34a91",
   "metadata": {},
   "outputs": [
    {
     "name": "stdout",
     "output_type": "stream",
     "text": [
      "Measures the execution time of a function = func.\n",
      "    \n",
      "       Args: an input func.\n",
      "       \n",
      "       Returns: the execution time of func.\n"
     ]
    }
   ],
   "source": [
    "print(timemeasure.__doc__)"
   ]
  },
  {
   "cell_type": "code",
   "execution_count": 257,
   "id": "abb26e1d-cb34-49af-8798-a533f1c834ea",
   "metadata": {
    "tags": []
   },
   "outputs": [],
   "source": [
    "# geeksforgeeks\n",
    "def timer_func(func):\n",
    "    # This function shows the execution time of \n",
    "    # the function object passed\n",
    "    def wrap_func(*args, **kwargs):\n",
    "        t1 = time()\n",
    "        result = func(*args, **kwargs)\n",
    "        t2 = time()\n",
    "        print(f'Function {func.__name__!r} executed in {(t2-t1):.20f}s')\n",
    "        return result\n",
    "    return wrap_func"
   ]
  },
  {
   "cell_type": "code",
   "execution_count": 258,
   "id": "053d4722-881d-4817-9363-8fb5c88382c4",
   "metadata": {},
   "outputs": [
    {
     "name": "stdout",
     "output_type": "stream",
     "text": [
      "___Printouts___________________________________\n",
      "Execution time:  0.00000000000000000000 seconds.\n"
     ]
    }
   ],
   "source": [
    "start_time = time()\n",
    "multiply_args_555 = multiply_args(10000, 200000)\n",
    "execution_time_3434 = time() - start_time \n",
    "\n",
    "print(\"___Printouts___________________________________\")\n",
    "print(f'Execution time: {execution_time_3434: .20f} seconds.')"
   ]
  },
  {
   "cell_type": "code",
   "execution_count": 259,
   "id": "ec0725ef-62ab-455d-a45a-fd10db7592cf",
   "metadata": {},
   "outputs": [
    {
     "name": "stdout",
     "output_type": "stream",
     "text": [
      "400\n"
     ]
    }
   ],
   "source": [
    "print(multiply_args(5,4))"
   ]
  },
  {
   "cell_type": "code",
   "execution_count": 260,
   "id": "f1c250b6-72dc-424d-9aac-ba374ed24303",
   "metadata": {},
   "outputs": [
    {
     "name": "stdout",
     "output_type": "stream",
     "text": [
      "2000000000\n"
     ]
    },
    {
     "data": {
      "text/plain": [
       "4000000000000000000"
      ]
     },
     "execution_count": 260,
     "metadata": {},
     "output_type": "execute_result"
    }
   ],
   "source": [
    "print(10000*200000)\n",
    "multiply_args_555"
   ]
  },
  {
   "cell_type": "code",
   "execution_count": 261,
   "id": "64e85e98-f404-4337-8c37-47e97c3eba04",
   "metadata": {},
   "outputs": [
    {
     "data": {
      "text/plain": [
       "400"
      ]
     },
     "execution_count": 261,
     "metadata": {},
     "output_type": "execute_result"
    }
   ],
   "source": [
    "multiply_args(5,4)"
   ]
  },
  {
   "cell_type": "code",
   "execution_count": 262,
   "id": "d491a740-39fc-4f83-8b91-36c590fc6854",
   "metadata": {},
   "outputs": [],
   "source": [
    "@timemeasure\n",
    "def multiply_args(a1, a2):\n",
    "    ar= a1 * a2\n",
    "    return ar"
   ]
  },
  {
   "cell_type": "code",
   "execution_count": 263,
   "id": "b426793e-cc44-4c8c-9667-ed9019d7851f",
   "metadata": {},
   "outputs": [
    {
     "name": "stdout",
     "output_type": "stream",
     "text": [
      "starttime: 1633356253.2575443\n",
      "endtime: 1633356253.2585473\n",
      "runtime:  0.00100302696228027344 seconds\n"
     ]
    },
    {
     "data": {
      "text/plain": [
       "2000000000"
      ]
     },
     "execution_count": 263,
     "metadata": {},
     "output_type": "execute_result"
    }
   ],
   "source": [
    "multiply_args(10000, 200000)"
   ]
  },
  {
   "cell_type": "code",
   "execution_count": 264,
   "id": "5e14cb87-02e1-4548-94ab-2b47e7eebd03",
   "metadata": {},
   "outputs": [
    {
     "name": "stdout",
     "output_type": "stream",
     "text": [
      "starttime: 1633356253.5936525\n",
      "endtime: 1633356253.5946486\n",
      "runtime:  0.00099611282348632812 seconds\n"
     ]
    },
    {
     "data": {
      "text/plain": [
       "2000000000"
      ]
     },
     "execution_count": 264,
     "metadata": {},
     "output_type": "execute_result"
    }
   ],
   "source": [
    "multiply_args(10000, 200000)"
   ]
  },
  {
   "cell_type": "code",
   "execution_count": 265,
   "id": "fffacf8e-27f5-42be-a2ad-50e4c8ecde95",
   "metadata": {},
   "outputs": [],
   "source": [
    "string_23 = \\\n",
    "\"During nearly the whole of the forenoon of July 3, 1892, a soft rain had been falling. \\\n",
    "It had begun in the night to the discomfiture of the whippoorwills, but not to the extinguishment \\\n",
    "of their voices. It continued until nearly noon, when the wind shifted from east to west, \\\n",
    "patches of blue sky appeared, and ever and anon gleams of sunlight fell upon the distant \\\n",
    "forest across the lake, or slid slowly over the tree-tops on the side of Chocorua. \\\n",
    "Bird voices grew stronger with the promise of fair weather.\""
   ]
  },
  {
   "cell_type": "code",
   "execution_count": 266,
   "id": "36c50ef6-a1c6-482f-93f5-f37eee034e73",
   "metadata": {},
   "outputs": [
    {
     "name": "stdout",
     "output_type": "stream",
     "text": [
      "The number of upper_cases in the string is: 6\n",
      "Execution time:  0.00000000000000000000 seconds.\n"
     ]
    }
   ],
   "source": [
    "start_time = time()\n",
    "print(n_upper_cases(string_23))\n",
    "execution_time_43324 = time() - start_time \n",
    "print(f'Execution time: {execution_time_43324: .20f} seconds.')"
   ]
  },
  {
   "cell_type": "code",
   "execution_count": 267,
   "id": "f28f5f85-d02b-42f6-a3fe-528d6b3296f9",
   "metadata": {},
   "outputs": [],
   "source": [
    "@timemeasure\n",
    "def n_upper_cases(text):\n",
    "    \n",
    "    \"\"\"\n",
    "    The function below finds the number of upper cases in a text string.\n",
    "    \n",
    "    It is adding a Googly style sheet paragraph.\n",
    "    Args:\n",
    "        text (str): The text to analyze for upper cases.\n",
    "        \n",
    "    Returns:\n",
    "        \"The number of upper cases in the text.\"\n",
    "    Raises:\n",
    "        \"Raises a TypeError if the text is not a string.\"\n",
    "    \"\"\"\n",
    "    \n",
    "    if not type(text) is str:\n",
    "        raise TypeError('Text must be of type string.')\n",
    "        \n",
    "    find_upper = re.findall('[A-Z]', text)\n",
    "    upper_cases = len(find_upper)\n",
    "    \n",
    "    return f'The number of upper_cases in the string is: {upper_cases}'\n",
    "\n"
   ]
  },
  {
   "cell_type": "code",
   "execution_count": 268,
   "id": "654b1d7c-96fd-4f01-9983-3b1c18f5f96b",
   "metadata": {},
   "outputs": [
    {
     "name": "stdout",
     "output_type": "stream",
     "text": [
      "starttime: 1633356254.3873363\n",
      "endtime: 1633356254.3873363\n",
      "runtime:  0.00000000000000000000 seconds\n"
     ]
    }
   ],
   "source": [
    "n_upper_case_23 = n_upper_cases(string_23)"
   ]
  },
  {
   "cell_type": "code",
   "execution_count": 269,
   "id": "51ead551-c52c-4801-9090-bd06aa8553e5",
   "metadata": {},
   "outputs": [
    {
     "name": "stdout",
     "output_type": "stream",
     "text": [
      "The number of upper_cases in the string is: 6\n"
     ]
    }
   ],
   "source": [
    "print(n_upper_case_23)"
   ]
  },
  {
   "cell_type": "code",
   "execution_count": 270,
   "id": "8c1d9b6e-f662-4bb4-8d65-484a0e4cf1bf",
   "metadata": {},
   "outputs": [
    {
     "name": "stdout",
     "output_type": "stream",
     "text": [
      "starttime: 1633356254.7419655\n",
      "endtime: 1633356254.7419655\n",
      "runtime:  0.00000000000000000000 seconds\n"
     ]
    },
    {
     "data": {
      "text/plain": [
       "'The number of upper_cases in the string is: 6'"
      ]
     },
     "execution_count": 270,
     "metadata": {},
     "output_type": "execute_result"
    }
   ],
   "source": [
    "n_upper_cases(string_23)"
   ]
  },
  {
   "cell_type": "code",
   "execution_count": 271,
   "id": "0530025e-287d-412f-bc3d-f12bd0d5b267",
   "metadata": {},
   "outputs": [],
   "source": [
    "@timer_func\n",
    "def printer(string):\n",
    "    return print(string)"
   ]
  },
  {
   "cell_type": "code",
   "execution_count": 272,
   "id": "012eb4f9-e70d-4e66-9d00-158d08f818de",
   "metadata": {},
   "outputs": [
    {
     "name": "stdout",
     "output_type": "stream",
     "text": [
      "During nearly the whole of the forenoon of July 3, 1892, a soft rain had been falling. It had begun in the night to the discomfiture of the whippoorwills, but not to the extinguishment of their voices. It continued until nearly noon, when the wind shifted from east to west, patches of blue sky appeared, and ever and anon gleams of sunlight fell upon the distant forest across the lake, or slid slowly over the tree-tops on the side of Chocorua. Bird voices grew stronger with the promise of fair weather.\n",
      "Function 'printer' executed in 0.00000000000000000000s\n"
     ]
    }
   ],
   "source": [
    "printer(string_23)"
   ]
  },
  {
   "cell_type": "markdown",
   "id": "b81c7a41-26a6-4c4d-a105-9abe52b51ec0",
   "metadata": {},
   "source": [
    "<p>Attaches the  of the callable function to the returned output to the main function.</p>\n",
    "\n",
    "<p>\n",
    "\"<b>callable(object)</b><br>\n",
    "Return True if the object argument appears callable, False if not. If this returns True, it is still possible that a call fails, but if it is False, calling object will never succeed. Note that classes are callable (calling a class returns a new instance); instances are callable if their class has a __call__() method.\"\n",
    "</p>"
   ]
  },
  {
   "cell_type": "code",
   "execution_count": 273,
   "id": "c6bce0f8-7aee-43f2-bb52-2abc52dd75c2",
   "metadata": {},
   "outputs": [],
   "source": [
    "def return_callable(func):\n",
    "    # Define wrapper(), the decorated function\n",
    "    def wrapper(*args,**kwargs):\n",
    "        # Call the function being decorated\n",
    "        result = func(*args,**kwargs)\n",
    "        print('{}() is callable: {}'.format(func.__name__, callable(result)))\n",
    "        return result\n",
    "        # Return the decorated function\n",
    "    return wrapper"
   ]
  },
  {
   "cell_type": "code",
   "execution_count": 274,
   "id": "4642121f-e299-4a16-b675-267f9123a652",
   "metadata": {},
   "outputs": [
    {
     "name": "stdout",
     "output_type": "stream",
     "text": [
      "foo() is callable: False\n",
      "12321312\n",
      "foo() is callable: False\n",
      "[23, 999, 3]\n",
      "foo() is callable: False\n",
      "{'Sun': 42}\n"
     ]
    }
   ],
   "source": [
    "@return_callable\n",
    "def foo(value):\n",
    "    \"\"\"The foo func is only an example and nothing more.\"\"\"\n",
    "    return value\n",
    "  \n",
    "print(foo(12321312))\n",
    "print(foo([23, 999, 3]))\n",
    "print(foo({'Sun': 42}))"
   ]
  },
  {
   "cell_type": "markdown",
   "id": "68d5ccf7-cc33-4c2a-86a8-ac816cedfe22",
   "metadata": {},
   "source": [
    "<p>The __name__ method returns the wrapper not the func foo.</p>"
   ]
  },
  {
   "cell_type": "code",
   "execution_count": 275,
   "id": "07c26eb0-af8d-44a6-913d-2dd00761e8ee",
   "metadata": {},
   "outputs": [
    {
     "name": "stdout",
     "output_type": "stream",
     "text": [
      "wrapper\n"
     ]
    }
   ],
   "source": [
    "print(foo.__name__)"
   ]
  },
  {
   "cell_type": "markdown",
   "id": "9009dba3-932a-436f-89ff-ee7d53207ae8",
   "metadata": {},
   "source": [
    "<p>The wrapper has not a docstring. The original docstring of foo is not returned.</p>"
   ]
  },
  {
   "cell_type": "code",
   "execution_count": 276,
   "id": "5cc8c0ec-aa0e-4e50-a28c-367d0fc0e78d",
   "metadata": {},
   "outputs": [
    {
     "name": "stdout",
     "output_type": "stream",
     "text": [
      "None\n"
     ]
    }
   ],
   "source": [
    "print(foo.__doc__)"
   ]
  },
  {
   "cell_type": "markdown",
   "id": "f6ca6ca3-94b9-42eb-a90a-121d59e04530",
   "metadata": {},
   "source": [
    "#### Decorating the wrapper with wraps.\n",
    "<p>The docstring of the decorated func is returned when the wrapper is\n",
    "decorated with wraps.</p>"
   ]
  },
  {
   "cell_type": "code",
   "execution_count": 277,
   "id": "dfb37bec-8684-4263-8535-b564cf3526dd",
   "metadata": {},
   "outputs": [],
   "source": [
    "from functools import wraps\n",
    "\n",
    "def greetings(func):\n",
    "    \"This decorator func adds a greeting to any decorated func using wraps from functools.\"\n",
    "    @wraps(func)\n",
    "    # The wrapper is now decorated with wraps\n",
    "    def wrapper(*args, **kwargs):\n",
    "        result=func(*args, **kwargs)\n",
    "        print(\"I am greeting you my friend. Feel free to use the function, whoever you are.\")\n",
    "        return result\n",
    "    \n",
    "    return wrapper"
   ]
  },
  {
   "cell_type": "markdown",
   "id": "2f655c4b-4930-41f3-a826-16c79507b8af",
   "metadata": {},
   "source": [
    "#### Find odd numbers in a list\n",
    "<p>Even number: a whole number that is able to be divided by two into two equal whole numbers without remainder.<br>\n",
    "Odd number: a whole number that is not able to be divided by two into two equal whole numbers. (MW)</p>"
   ]
  },
  {
   "cell_type": "code",
   "execution_count": 278,
   "id": "1f047b65-39d8-42b4-bcb2-7a5569f3ac2d",
   "metadata": {},
   "outputs": [
    {
     "data": {
      "text/plain": [
       "False"
      ]
     },
     "execution_count": 278,
     "metadata": {},
     "output_type": "execute_result"
    }
   ],
   "source": [
    "not isinstance(3, int)"
   ]
  },
  {
   "cell_type": "code",
   "execution_count": 279,
   "id": "72199d31-6427-4dd4-a63d-aa0c032c661a",
   "metadata": {},
   "outputs": [],
   "source": [
    "def even_odd(n):\n",
    "    \"\"\"The func determines if the number is odd or even.\n",
    "       Args: a number.\n",
    "       Error: the number is not an int.\n",
    "       Returns: a print out of the result.\"\"\"\n",
    "    \n",
    "    if not isinstance(n, int):\n",
    "                raise TypeError(\"Only integers are allowed\") \n",
    "\n",
    "    if n%2 == 0:\n",
    "        return f\"Checked: the number {n} is even.\"\n",
    "    elif n%2 != 0:\n",
    "        return f\"Checked: The number {n} is odd.\""
   ]
  },
  {
   "cell_type": "code",
   "execution_count": 280,
   "id": "656d4435-581d-4ef9-941a-1510232417f5",
   "metadata": {},
   "outputs": [
    {
     "name": "stdout",
     "output_type": "stream",
     "text": [
      "Checked: The number 5 is odd.\n",
      "Checked: the number 12 is even.\n",
      "Checked: The number 735 is odd.\n",
      "Checked: the number 1022 is even.\n"
     ]
    }
   ],
   "source": [
    "print(even_odd(5))\n",
    "print(even_odd(12))\n",
    "print(even_odd(735))\n",
    "print(even_odd(1022))\n",
    "# print(even_odd(1022.34))"
   ]
  },
  {
   "cell_type": "markdown",
   "id": "7aac8425-699c-46f1-93a1-590f7e09c8ba",
   "metadata": {},
   "source": [
    "<p>The docstring of the func is returned.</p>"
   ]
  },
  {
   "cell_type": "code",
   "execution_count": 281,
   "id": "227cbbce-4fad-4c6f-8d2b-230202e95d0b",
   "metadata": {},
   "outputs": [],
   "source": [
    "@greetings\n",
    "def even_odd(n):\n",
    "    \"\"\"The func determines if the number is odd or even.\n",
    "       Args: a number.\n",
    "       Error: the number is not an int.\n",
    "       Returns: a print out of the result.\"\"\"\n",
    "    \n",
    "    if not isinstance(n, int):\n",
    "                raise TypeError(\"Only integers are allowed\") \n",
    "\n",
    "    if n%2 == 0:\n",
    "        return f\"The number {n} is even.\"\n",
    "    elif n%2 != 0:\n",
    "        return f\"The number {n} is odd.\""
   ]
  },
  {
   "cell_type": "markdown",
   "id": "462e246a-b28e-495d-8f34-616ba9650aeb",
   "metadata": {},
   "source": [
    "<p>This returns the docstring of the decorated func even_odd.<br>\n",
    "Without wraps(func) this would not be the case.</p>"
   ]
  },
  {
   "cell_type": "code",
   "execution_count": 282,
   "id": "7f63ec70-bf7b-4fa3-8725-a0ad796f174b",
   "metadata": {},
   "outputs": [
    {
     "name": "stdout",
     "output_type": "stream",
     "text": [
      "The func determines if the number is odd or even.\n",
      "       Args: a number.\n",
      "       Error: the number is not an int.\n",
      "       Returns: a print out of the result.\n"
     ]
    }
   ],
   "source": [
    "print(even_odd.__doc__)"
   ]
  },
  {
   "cell_type": "code",
   "execution_count": 283,
   "id": "5b4d1b4e-40ff-4f9f-a98b-10f55aefda87",
   "metadata": {},
   "outputs": [
    {
     "name": "stdout",
     "output_type": "stream",
     "text": [
      "I am greeting you my friend. Feel free to use the function, whoever you are.\n"
     ]
    },
    {
     "data": {
      "text/plain": [
       "'The number 66 is even.'"
      ]
     },
     "execution_count": 283,
     "metadata": {},
     "output_type": "execute_result"
    }
   ],
   "source": [
    "even_odd(66)"
   ]
  },
  {
   "cell_type": "markdown",
   "id": "3f1711c2-ae82-4222-aad2-288f8ac69361",
   "metadata": {},
   "source": [
    "<p>This calls the original function even_odd.<br>\n",
    "The \"I am greeting you my friend\"-line is therefore missing.</p>"
   ]
  },
  {
   "cell_type": "code",
   "execution_count": 284,
   "id": "9651c9f5-5b64-4600-a7a6-cb9e2ca020ee",
   "metadata": {},
   "outputs": [
    {
     "name": "stdout",
     "output_type": "stream",
     "text": [
      "<function even_odd at 0x000001E7870C21F8>\n",
      "The number 5 is odd.\n"
     ]
    }
   ],
   "source": [
    "print(even_odd.__wrapped__)\n",
    "print(even_odd.__wrapped__(5))"
   ]
  },
  {
   "cell_type": "code",
   "execution_count": 285,
   "id": "5260e2ee-796e-40d5-848c-75abbc41469d",
   "metadata": {},
   "outputs": [
    {
     "name": "stdout",
     "output_type": "stream",
     "text": [
      "I am greeting you my friend. Feel free to use the function, whoever you are.\n",
      "The number 1354 is even.\n",
      "I am greeting you my friend. Feel free to use the function, whoever you are.\n",
      "The number 1048 is even.\n",
      "I am greeting you my friend. Feel free to use the function, whoever you are.\n",
      "The number 1085 is odd.\n"
     ]
    }
   ],
   "source": [
    "random_ints_20 = list(np.random.randint(1000, 2000, 100))\n",
    "# print(type(random_ints_20))\n",
    "# print(random_ints_20)\n",
    "\n",
    "for n in np.random.choice(random_ints_20, 3):\n",
    "    k=int(n)\n",
    "    print(even_odd(k))"
   ]
  },
  {
   "cell_type": "code",
   "execution_count": 286,
   "id": "79f8c492-d5c9-4f3b-8a13-78fc0a7126f3",
   "metadata": {},
   "outputs": [],
   "source": [
    "#### Adding arguments to decorators"
   ]
  },
  {
   "cell_type": "code",
   "execution_count": 287,
   "id": "8323bd8f-6032-4767-85ab-d5afe7acb160",
   "metadata": {},
   "outputs": [],
   "source": [
    "def add_labels(*labels):\n",
    "    \"\"\"This decorating function add numerous arguments or labels to the decorated function.\"\"\"\n",
    "    def decorator(foo):\n",
    "        # Maintaining the metadata\n",
    "        @wraps(foo)\n",
    "        def wrapper(*args):\n",
    "            return func(*args)\n",
    "        wrapper.labels = labels\n",
    "        return wrapper\n",
    "    return decorator"
   ]
  },
  {
   "cell_type": "code",
   "execution_count": 288,
   "id": "ab9d4a46-d620-4321-9b5b-812e6ded21ac",
   "metadata": {},
   "outputs": [
    {
     "name": "stdout",
     "output_type": "stream",
     "text": [
      "<class 'function'>\n"
     ]
    }
   ],
   "source": [
    "even_odd_2 = even_odd\n",
    "print(type(even_odd_2))\n",
    "\n",
    "@add_labels(\"Date: 1st of December 11012\", \"Location: Andromeda Prime\", \"Emperor: Imrod, the 38th\")\n",
    "def even_odd_2():\n",
    "    even_odd_2 = even_odd"
   ]
  },
  {
   "cell_type": "code",
   "execution_count": 289,
   "id": "c8ab0c08-d45f-4b54-ab5b-32c94627438b",
   "metadata": {},
   "outputs": [
    {
     "name": "stdout",
     "output_type": "stream",
     "text": [
      "('Date: 1st of December 11012', 'Location: Andromeda Prime', 'Emperor: Imrod, the 38th')\n"
     ]
    }
   ],
   "source": [
    "print(even_odd_2.labels)"
   ]
  },
  {
   "cell_type": "markdown",
   "id": "0272cbe0-94b0-496d-8f49-3a2d46ead738",
   "metadata": {
    "tags": []
   },
   "source": [
    "### Problem solving with functions\n",
    "####  Returning the longest number in a binary representation of a number\n",
    "<p>The binary representation of a number is returned with bin as a str.</p>"
   ]
  },
  {
   "cell_type": "code",
   "execution_count": 290,
   "id": "8d3d87c0-4747-4896-88d7-cf9e125a8c9d",
   "metadata": {},
   "outputs": [
    {
     "data": {
      "text/plain": [
       "'11101011'"
      ]
     },
     "execution_count": 290,
     "metadata": {},
     "output_type": "execute_result"
    }
   ],
   "source": [
    "bin(100)\n",
    "bin(235)\n",
    "f'{235:b}'"
   ]
  },
  {
   "cell_type": "markdown",
   "id": "f2da4df7-be82-47ff-bfc6-d63f17ebca3d",
   "metadata": {},
   "source": [
    "<p>The string is split with the seperator 1.</p>"
   ]
  },
  {
   "cell_type": "code",
   "execution_count": 291,
   "id": "38d4e60b-8792-4f05-b6dd-6a63981e0f70",
   "metadata": {},
   "outputs": [
    {
     "name": "stdout",
     "output_type": "stream",
     "text": [
      "10001011010011001000010\n",
      "<class 'str'>\n"
     ]
    },
    {
     "data": {
      "text/plain": [
       "['', '000', '0', '', '0', '00', '', '00', '0000', '0']"
      ]
     },
     "execution_count": 291,
     "metadata": {},
     "output_type": "execute_result"
    }
   ],
   "source": [
    "binr=f'{4564546:b}'\n",
    "\n",
    "print(binr)\n",
    "print(type(binr))\n",
    "\n",
    "binr_str=binr.split('1')\n",
    "binr_str"
   ]
  },
  {
   "cell_type": "code",
   "execution_count": 292,
   "id": "f5862977-77cc-4805-add6-04fb4f2c5977",
   "metadata": {},
   "outputs": [
    {
     "name": "stdout",
     "output_type": "stream",
     "text": [
      "4\n"
     ]
    }
   ],
   "source": [
    "print(len('0000'))"
   ]
  },
  {
   "cell_type": "markdown",
   "id": "f7ffcbbf-f22a-43fd-aa6a-dea18b9df66f",
   "metadata": {},
   "source": [
    "<p>This is turned into a function with n = number as the input.</p>"
   ]
  },
  {
   "cell_type": "code",
   "execution_count": 293,
   "id": "6770f3a3-3d7b-4a35-b4d9-2bec17fd3f7e",
   "metadata": {},
   "outputs": [],
   "source": [
    "def longest_string(n):\n",
    "    \n",
    "    binr=f'{n:b}'\n",
    "    binr_str=binr.split('1')\n",
    "\n",
    "    max_len = -1\n",
    "\n",
    "    for string in binr_str:\n",
    "        if len(string) > max_len:\n",
    "            max_len = len(string)\n",
    "            result = string\n",
    "            \n",
    "    # indecees of longest sequences of zeros        \n",
    "    longest_sequence_indicees = [i for i in range(len(binr_str)) if binr_str[i] == result]\n",
    "   \n",
    "    # checks for longest_sequence_zeros\n",
    "    # Not really necessary\n",
    "    longest_sequence_zeros = [binr_str[i] for i in longest_sequence_indicees]\n",
    "    \n",
    "    return max_len, result, longest_sequence_indicees, longest_sequence_zeros"
   ]
  },
  {
   "cell_type": "code",
   "execution_count": 294,
   "id": "0613f537-e1a9-415c-bf60-3a4d5c42e8e4",
   "metadata": {},
   "outputs": [],
   "source": [
    "max_len_1, longest_result_1, longest_sequence_indicees_1, longest_sequence_zeros_1 = \\\n",
    "longest_string(4564546)"
   ]
  },
  {
   "cell_type": "code",
   "execution_count": 295,
   "id": "385331fe-5a60-4319-b4a9-610072b5e549",
   "metadata": {},
   "outputs": [
    {
     "name": "stdout",
     "output_type": "stream",
     "text": [
      "4 0000 [8] ['0000']\n"
     ]
    }
   ],
   "source": [
    "print(max_len_1, longest_result_1, longest_sequence_indicees_1, longest_sequence_zeros_1)"
   ]
  },
  {
   "cell_type": "code",
   "execution_count": 296,
   "id": "370195c4-a102-4ad5-919e-b5ee232b9d1e",
   "metadata": {},
   "outputs": [
    {
     "name": "stdout",
     "output_type": "stream",
     "text": [
      "{'durian': 4, 'foo': 12}\n"
     ]
    }
   ],
   "source": [
    "d={}\n",
    "d['durian'] = 4\n",
    "d.update({'foo':12})\n",
    "\n",
    "print(d)"
   ]
  },
  {
   "cell_type": "markdown",
   "id": "french-casino",
   "metadata": {},
   "source": [
    "## Using context managers\n",
    "\n",
    "<p>for setting up the context, running the code, and closing the context by starting always with \"with\". This is a way for managing Resources  </p>\n",
    "\n",
    "<p>\n",
    "\"In any programming language, the usage of resources like file operations or database connections is very common. But these resources are limited in supply. Therefore, the main problem lies in making sure to release these resources after usage. If they are not released then it will lead to resource leakage and may cause the system to either slow down or crash. It would be very helpful if user have a mechanism for the automatic setup and teardown of resources. In Python, it can be achieved by the usage of context managers which facilitate the proper handling of resources.\"<br>\n",
    "<a href=\"https://www.geeksforgeeks.org/context-manager-in-python/\" target=\"_blank\">geeksforgeeks</a>  \n",
    "</p>\n",
    "\n",
    "<p>\n",
    "Below are some examples of context managers.<br>\n",
    "An overview is given here:<br>\n",
    "<a href=\"https://docs.python.org/3/library/contextlib.html\" target=\"_blank\">contextlib — Utilities for with-statement contexts</a> \n",
    "\n",
    "</p>\n",
    "\n",
    "<p>The open context manager sets the context for text files.<br>\n",
    "It is one of the most used ones.</p>"
   ]
  },
  {
   "cell_type": "code",
   "execution_count": 297,
   "id": "split-entry",
   "metadata": {},
   "outputs": [],
   "source": [
    "with open('txt/Dickens_GExpec.txt', encoding=\"utf8\") as file:\n",
    "      greatexpec=file.read()"
   ]
  },
  {
   "cell_type": "code",
   "execution_count": 298,
   "id": "distinguished-analyst",
   "metadata": {},
   "outputs": [
    {
     "name": "stdout",
     "output_type": "stream",
     "text": [
      "<class 'str'>\n",
      "1013851\n"
     ]
    }
   ],
   "source": [
    "print(type(greatexpec))\n",
    "print(len(greatexpec))"
   ]
  },
  {
   "cell_type": "code",
   "execution_count": 299,
   "id": "successful-honor",
   "metadata": {},
   "outputs": [
    {
     "name": "stdout",
     "output_type": "stream",
     "text": [
      "Charles Dickens uses the word \"give\" in Great Expectations 193 times\n"
     ]
    }
   ],
   "source": [
    "n = 0\n",
    "\n",
    "# The split() method splits a string into a list.\n",
    "for word in greatexpec.split():\n",
    "    if word.lower() in ['give', 'gave']:\n",
    "        n += 1\n",
    "\n",
    "print('Charles Dickens uses the word \"give\" in Great Expectations {} times'.format(n))"
   ]
  },
  {
   "cell_type": "markdown",
   "id": "matched-sensitivity",
   "metadata": {},
   "source": [
    "<p>The open urlopen set the context for websites.</p>"
   ]
  },
  {
   "cell_type": "code",
   "execution_count": 300,
   "id": "paperback-blake",
   "metadata": {},
   "outputs": [],
   "source": [
    "# from contextlib import closing\n",
    "# from urllib.request import urlopen\n",
    "\n",
    "# AT THE NORTH OF BEARCAMP WATER.\n",
    "# with closing(urlopen('https://www.gutenberg.org/cache/epub/66269/pg66269-images.html#c1')) as page:\n",
    "       # bearcamp=page.read()     \n",
    "        "
   ]
  },
  {
   "cell_type": "markdown",
   "id": "33bb566b-2c5c-44f7-837f-8e698baefb46",
   "metadata": {},
   "source": [
    "<p>The method urlopen works, but unfortunately there is a court decision block caused by legal issues, \n",
    "when accessing Gutenberg with a IP adress from certain countries.</p>"
   ]
  },
  {
   "cell_type": "code",
   "execution_count": 301,
   "id": "a56b71cc-dbbb-4eef-bda6-ff6b9148c3f3",
   "metadata": {},
   "outputs": [],
   "source": [
    "# os.getcwd()"
   ]
  },
  {
   "cell_type": "code",
   "execution_count": 302,
   "id": "f5608471-d8e6-4454-9ded-54bc0a59927a",
   "metadata": {},
   "outputs": [],
   "source": [
    "with open('txt/BEARCAMP_WATER.txt', encoding=\"utf8\") as bear_file:\n",
    "       bearcamp=bear_file.read()  "
   ]
  },
  {
   "cell_type": "markdown",
   "id": "varying-photograph",
   "metadata": {},
   "source": [
    "<p>This gives a byte object returns<br>\n",
    "\"a new \"bytes\" object, which is an immutable sequence of small integers in the range 0 to 256, print as ASCII characters when displayed.\"<br>\n",
    "<a href=\"https://www.w3resource.com/python/python-bytes.php#bytes\" target=\"_blank\">python-bytes</a> \n",
    "</p>"
   ]
  },
  {
   "cell_type": "code",
   "execution_count": 303,
   "id": "competent-seattle",
   "metadata": {},
   "outputs": [
    {
     "name": "stdout",
     "output_type": "stream",
     "text": [
      "<class 'str'>\n",
      "52137\n",
      " ravine.\n",
      "\n",
      "Close above the sphinx a spring in the eastern bank filled a hollow in the hill with cold,\n"
     ]
    }
   ],
   "source": [
    "print(type(bearcamp))\n",
    "print(len(bearcamp))\n",
    "print(bearcamp[25000:25100])"
   ]
  },
  {
   "cell_type": "markdown",
   "id": "sophisticated-entertainment",
   "metadata": {},
   "source": [
    "<p>Converting bytes to strings.</p>"
   ]
  },
  {
   "cell_type": "code",
   "execution_count": 304,
   "id": "primary-digit",
   "metadata": {},
   "outputs": [],
   "source": [
    "# string = bearcamp.decode('utf-8')\n",
    "# print(type(string))\n",
    "# print(len(string))\n",
    "# print(string[40000:40100])\n"
   ]
  },
  {
   "cell_type": "code",
   "execution_count": 305,
   "id": "brown-austin",
   "metadata": {},
   "outputs": [
    {
     "ename": "NameError",
     "evalue": "name 'string' is not defined",
     "output_type": "error",
     "traceback": [
      "\u001b[1;31m-----------------------------------------------------------------\u001b[0m",
      "\u001b[1;31mNameError\u001b[0m                       Traceback (most recent call last)",
      "\u001b[1;32mC:\\Users\\GAMARA~1\\AppData\\Local\\Temp/ipykernel_17036/1821743743.py\u001b[0m in \u001b[0;36m<module>\u001b[1;34m\u001b[0m\n\u001b[0;32m      1\u001b[0m \u001b[0mn_2\u001b[0m\u001b[1;33m=\u001b[0m\u001b[1;36m0\u001b[0m\u001b[1;33m\u001b[0m\u001b[1;33m\u001b[0m\u001b[0m\n\u001b[1;32m----> 2\u001b[1;33m \u001b[1;32mfor\u001b[0m \u001b[0mword\u001b[0m \u001b[1;32min\u001b[0m \u001b[0mstring\u001b[0m\u001b[1;33m.\u001b[0m\u001b[0msplit\u001b[0m\u001b[1;33m(\u001b[0m\u001b[1;33m)\u001b[0m\u001b[1;33m:\u001b[0m\u001b[1;33m\u001b[0m\u001b[1;33m\u001b[0m\u001b[0m\n\u001b[0m\u001b[0;32m      3\u001b[0m     \u001b[1;32mif\u001b[0m \u001b[0mword\u001b[0m \u001b[1;32min\u001b[0m \u001b[1;33m[\u001b[0m\u001b[1;34m'water'\u001b[0m\u001b[1;33m,\u001b[0m \u001b[1;34m'Water'\u001b[0m\u001b[1;33m]\u001b[0m\u001b[1;33m:\u001b[0m\u001b[1;33m\u001b[0m\u001b[1;33m\u001b[0m\u001b[0m\n\u001b[0;32m      4\u001b[0m         \u001b[0mn_2\u001b[0m\u001b[1;33m+=\u001b[0m\u001b[1;36m1\u001b[0m\u001b[1;33m\u001b[0m\u001b[1;33m\u001b[0m\u001b[0m\n",
      "\u001b[1;31mNameError\u001b[0m: name 'string' is not defined"
     ]
    }
   ],
   "source": [
    "n_2=0\n",
    "for word in string.split():\n",
    "    if word in ['water', 'Water']:\n",
    "        n_2+=1"
   ]
  },
  {
   "cell_type": "code",
   "execution_count": null,
   "id": "chief-boutique",
   "metadata": {},
   "outputs": [],
   "source": [
    "print(n_2)\n",
    "print('In the book AT THE NORTH OF BEARCAMP WATER the word water is used {} times.'.format(n_2))"
   ]
  },
  {
   "cell_type": "markdown",
   "id": "relevant-celebrity",
   "metadata": {},
   "source": [
    "<p>With open works for a lot of file types, including json.</p>"
   ]
  },
  {
   "cell_type": "code",
   "execution_count": null,
   "id": "irish-bibliography",
   "metadata": {},
   "outputs": [],
   "source": [
    "with open(\"txt/worldpopulation.json\",\n",
    "          'r') as world_pop:\n",
    "          world_pop = json.load(world_pop)"
   ]
  },
  {
   "cell_type": "code",
   "execution_count": null,
   "id": "antique-murder",
   "metadata": {},
   "outputs": [],
   "source": [
    "print(type(world_pop))\n",
    "print(type(world_pop[0]))\n",
    "\n",
    "print(len(world_pop))\n",
    "print(len(world_pop[0]))\n",
    "\n",
    "print(world_pop[0].keys())\n",
    "print(world_pop[:2])"
   ]
  },
  {
   "cell_type": "markdown",
   "id": "saved-values",
   "metadata": {},
   "source": [
    "<p>Get system information and redirect it.</p>"
   ]
  },
  {
   "cell_type": "code",
   "execution_count": null,
   "id": "african-server",
   "metadata": {},
   "outputs": [],
   "source": [
    "# from contextlib import redirect_stdout\n",
    "# import subprocess\n",
    "# import io\n",
    "\n",
    "with redirect_stdout(io.StringIO()) as f:\n",
    "    help(round)\n",
    "s = f.getvalue()"
   ]
  },
  {
   "cell_type": "code",
   "execution_count": null,
   "id": "living-mainland",
   "metadata": {},
   "outputs": [],
   "source": [
    "print(s)"
   ]
  },
  {
   "cell_type": "markdown",
   "id": "institutional-syracuse",
   "metadata": {},
   "source": [
    "### Function based on context managers\n",
    "<p>by:</p>\n",
    "\n",
    "<ul>\n",
    "  <li>adding the decorator contextlib.contextmanager,</li>\n",
    "  <li>creating a user defined function,</li>\n",
    "  <li>writing any code,</li>\n",
    "  <li>using the yield keyword compulsory.</li>\n",
    "</ul> "
   ]
  },
  {
   "cell_type": "code",
   "execution_count": null,
   "id": "elect-trinity",
   "metadata": {},
   "outputs": [],
   "source": [
    "import contextlib\n",
    "from contextlib import contextmanager\n",
    "@contextlib.contextmanager\n",
    "def foo_3():\n",
    "    print('You say goodbye, but I say hello; hello, hello!')\n",
    "    yield 'I did not say goodbye.'"
   ]
  },
  {
   "cell_type": "code",
   "execution_count": null,
   "id": "divided-qualification",
   "metadata": {},
   "outputs": [],
   "source": [
    "print(foo_3())"
   ]
  },
  {
   "cell_type": "code",
   "execution_count": null,
   "id": "funny-opinion",
   "metadata": {},
   "outputs": [],
   "source": [
    "with foo_3() as foo_3:\n",
    "    print(foo_3)"
   ]
  },
  {
   "cell_type": "code",
   "execution_count": null,
   "id": "eleven-pollution",
   "metadata": {},
   "outputs": [],
   "source": [
    "@contextlib.contextmanager\n",
    "def database(url):\n",
    "    # set up database connection\n",
    "    db = postgres.connect(url)\n",
    "    yield db\n",
    "    # tear down database connection\n",
    "    db.disconnect()"
   ]
  },
  {
   "cell_type": "code",
   "execution_count": null,
   "id": "smaller-treasurer",
   "metadata": {},
   "outputs": [],
   "source": []
  }
 ],
 "metadata": {
  "kernelspec": {
   "display_name": "Python 3 (ipykernel)",
   "language": "python",
   "name": "python3"
  },
  "language_info": {
   "codemirror_mode": {
    "name": "ipython",
    "version": 3
   },
   "file_extension": ".py",
   "mimetype": "text/x-python",
   "name": "python",
   "nbconvert_exporter": "python",
   "pygments_lexer": "ipython3",
   "version": "3.7.10"
  }
 },
 "nbformat": 4,
 "nbformat_minor": 5
}
